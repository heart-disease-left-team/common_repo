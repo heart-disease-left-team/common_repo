{
 "metadata": {
  "name": "",
  "signature": "sha256:bd8b38bd2a65967ed20ab7c79223d829214476cdda91a9f83b172b59b6e0b287"
 },
 "nbformat": 3,
 "nbformat_minor": 0,
 "worksheets": [
  {
   "cells": [
    {
     "cell_type": "heading",
     "level": 3,
     "metadata": {},
     "source": [
      "Imports and Function Definitions"
     ]
    },
    {
     "cell_type": "code",
     "collapsed": false,
     "input": [
      "%matplotlib inline\n",
      "import pymysql\n",
      "import pandas as pd\n",
      "import numpy as np\n",
      "import random\n",
      "import matplotlib.pyplot as plt\n",
      "import operator\n",
      "import csv\n",
      "from sklearn.neighbors import KNeighborsClassifier\n",
      "from sklearn.linear_model import LogisticRegression\n",
      "from sklearn.naive_bayes import GaussianNB, MultinomialNB\n",
      "from sklearn.svm import SVC\n",
      "from sklearn.svm import LinearSVC\n",
      "from sklearn.tree import DecisionTreeClassifier\n",
      "from sklearn.ensemble import RandomForestClassifier\n",
      "from sklearn.cross_validation import train_test_split\n",
      "from sklearn.cross_validation import cross_val_score\n",
      "from sklearn.metrics import accuracy_score\n",
      "from sklearn.metrics import precision_recall_curve\n",
      "from sklearn.metrics import roc_curve\n",
      "from sklearn.metrics import auc\n",
      "from sklearn import preprocessing\n",
      "\n",
      "# function definitions\n",
      "def generic_cross_validation(model, X, y, folds=5):\n",
      "    \"\"\" Function that returns a dictionary of accuracy, precision, recall, and f1 scores.  \n",
      "    Means and Standard Deviations are returned \"\"\"\n",
      "    accuracy_scores = cross_val_score(model, X, y, cv=folds)\n",
      "    precision_scores = cross_val_score(model, X, y, cv=folds, scoring='precision')\n",
      "    recall_scores = cross_val_score(model, X, y, cv=folds, scoring='recall')\n",
      "    f1_scores = cross_val_score(model, X, y, cv=folds, scoring='f1')\n",
      "    \n",
      "    return_dict = {\n",
      "        'mean': {\n",
      "            'accuracy': np.mean(accuracy_scores),\n",
      "            'precision': np.mean(precision_scores),\n",
      "            'recall': np.mean(recall_scores),\n",
      "            'f1': np.mean(f1_scores)\n",
      "        },\n",
      "        'std': {\n",
      "            'accuracy': np.std(accuracy_scores),\n",
      "            'precision': np.std(precision_scores),\n",
      "            'recall': np.std(recall_scores),\n",
      "            'f1': np.std(f1_scores)\n",
      "        }\n",
      "    }\n",
      "    return return_dict\n",
      "\n",
      "accuracy_dict = {}\n",
      "precision_dict = {}\n",
      "recall_dict = {}\n",
      "f1_dict = {}\n",
      "auc_dict = {}"
     ],
     "language": "python",
     "metadata": {},
     "outputs": [],
     "prompt_number": 2
    },
    {
     "cell_type": "heading",
     "level": 3,
     "metadata": {},
     "source": [
      "Data Acquisition and Processing"
     ]
    },
    {
     "cell_type": "code",
     "collapsed": false,
     "input": [
      "# connec to mysql server\n",
      "db = pymysql.connect(host=\"104.131.118.159\",  #your cloud ip\n",
      "                     user='root',\n",
      "                     passwd='leftyheart',\n",
      "                     db='heart_disease')\n",
      "\n",
      "cursor = db.cursor(pymysql.cursors.DictCursor)\n",
      "\n",
      "# populate Data Frame\n",
      "cursor.execute(\"\"\"\n",
      "select         \n",
      "--             id      \n",
      "--            ,ccf            \n",
      "            age            \n",
      "/*            ,case\n",
      "                when sex = 1\n",
      "                then 'male'\n",
      "                when sex = 0\n",
      "                then 'female'\n",
      "            end as sex       */\n",
      "            ,sex as male\n",
      "/*            ,case             \n",
      "                when painloc = 1            \n",
      "                then 'substernal_chest_pain'            \n",
      "                when painloc = 0\n",
      "                then 'other_chest_pain'            \n",
      "            end as painloc        */    \n",
      "/*            ,case             \n",
      "                when painexer = 1            \n",
      "--                then 'painexer_provoked_by_exertion'            \n",
      "--                when painexer = 0\n",
      "--                then 'painexer_otherwise'            \n",
      "                then 1\n",
      "                else 0\n",
      "--            end as painexer  \n",
      "            end as pain_provoked_by_exertion    */\n",
      "/*            ,case             \n",
      "                when relrest = 1\n",
      "--                then 'relrest_relieved_after_rest'            \n",
      "--                else 'relrest_otherwise'            \n",
      "--                when relrest = 0\n",
      "                then 1\n",
      "                else 0            \n",
      "--            end as relrest             \n",
      "            end as pain_relived_after_rest        */\n",
      "--            ,pncade          \n",
      "            ,case             \n",
      "                when cp = 1            \n",
      "                then 'typical_anginal_chest_pain'            \n",
      "                when cp = 2            \n",
      "                then 'atypical_anginal_chest_pain'            \n",
      "                when cp = 3            \n",
      "                then 'non-anginal_chest_pain'            \n",
      "                when cp = 4            \n",
      "                then 'asymptomatic_chest_pain'            \n",
      "--                then 1\n",
      "--                else 0\n",
      "            end as cp            \n",
      "--            end as asymptomatic_chest_pain\n",
      "            ,trestbps as resting_blood_pressure            \n",
      "--            ,htn as hypertension            \n",
      "            ,chol as cholesterol           \n",
      "            ,smoke as smoker            \n",
      "            ,cigs as num_cigs_per_day           \n",
      "            ,years as years_as_smoker           \n",
      "--            ,fbs as fasting_blood_sugar           \n",
      "            ,dm as fam_hist_diabetes            \n",
      "            ,famhist as fam_hist_heart_disease           \n",
      "            ,case             \n",
      "                when restecg = 0            \n",
      "                then 'restecg_normal'            \n",
      "                when restecg = 1            \n",
      "                then 'restecg_st-t_wave_abnormality'            \n",
      "                when restecg = 2            \n",
      "                then 'restecg_left_ventricular_hypertrophy'            \n",
      "            end as restecg            \n",
      "--            ,ekgmo            \n",
      "--            ,ekgday            \n",
      "--            ,ekgyr            \n",
      "--            ,dig            \n",
      "--            ,prop            \n",
      "--            ,nitr            \n",
      "--            ,pro            \n",
      "--            ,diuretic            \n",
      "/*            ,case            \n",
      "                when proto = 1            \n",
      "                then 'proto_bruce'            \n",
      "                when proto = 2            \n",
      "                then 'proto_kottus'            \n",
      "                when proto = 3            \n",
      "                then 'proto_mchenry'            \n",
      "                when proto = 4            \n",
      "                then 'proto_fast_balke'            \n",
      "                when proto = 5            \n",
      "                then 'proto_balke'            \n",
      "                when proto = 6            \n",
      "                then 'proto_noughton'            \n",
      "                when proto = 7            \n",
      "                then 'proto_bike_150'            \n",
      "                when proto = 8            \n",
      "                then 'proto_bike_125'            \n",
      "                when proto = 9            \n",
      "                then 'proto_bike_100'            \n",
      "                when proto = 10            \n",
      "                then 'proto_bike_75'            \n",
      "                when proto = 11            \n",
      "                then 'proto_bike_50'            \n",
      "                when proto = 12            \n",
      "                then 'proto_arm_ergometer'            \n",
      "            end as proto         */   \n",
      "--            ,thaldur as exercise_test_duration           \n",
      "            ,thaltime as st_measure_recording_time           \n",
      "--            ,met as metabolic_equivalent_achieved            \n",
      "            ,thalach as max_heart_rate           \n",
      "--            ,thalrest as resting_heart_rate            \n",
      "--            ,tpeakbps as peak_diastolic_blood_pressure            \n",
      "--            ,tpeakbpd as peak_systolic_blood_pressure          \n",
      "--            ,dummy            \n",
      "--            ,trestbpd as rest_blood_pressure           \n",
      "            ,exang as exercise_induced_angina           \n",
      "--            ,xhypo as x_hypoglycemia          \n",
      "            ,oldpeak as st_depression           \n",
      "            ,case            \n",
      "                when slope = 1            \n",
      "--                then 'slope_upsloping'            \n",
      "--                when slope = 2            \n",
      "--                then 'slope_flat'    \n",
      "                then 1\n",
      "                else 0\n",
      "--                when slope = 3            \n",
      "--                then 'slope_downsloping'            \n",
      "--            end as slope   \n",
      "            end as normal_st_slope          \n",
      "            ,rldv5 rest_height           \n",
      "--            ,rldv5e as peak_exercise_height      \n",
      "--            ,ca            \n",
      "            ,restckm as creatine_kinase_rest            \n",
      "            ,exerckm as creatine_kinase_excercise           \n",
      "            ,restef as rest_ejection_fraction           \n",
      "            ,case            \n",
      "--                when restwm = 0            \n",
      "--                then 'rest_motion_abnormality_none'            \n",
      "--                when restwm = 1            \n",
      "--                then 'rest_motion_abnormality_mild_moderate'            \n",
      "                when restwm = 2            \n",
      "--                then 'rest_motion_abnormality_moderate_severe'            \n",
      "                then 1\n",
      "                else 0\n",
      "--                when restwm = 3            \n",
      "--                then 'rest_motion_abnormality_akinesis_dyskmem'            \n",
      "--            end as restwm    \n",
      "            end as severe_rest_motion_abnormality\n",
      "            ,exeref as exercise_ejection_fraction            \n",
      "            ,exerwm as exercise_motion_abnormality        \n",
      "            ,case             \n",
      "                when thal = 3            \n",
      "--                then 'thalassemia_normal'            \n",
      "--                when thal = 6            \n",
      "--                then 'thalassemia_fixed_defect'            \n",
      "--                when thal = 7            \n",
      "--                then 'thalassemia_reversable_defect'            \n",
      "                then 0\n",
      "                else 1\n",
      "--            end as thal\n",
      "            end as 'thalassemia'    \n",
      "            ,thalsev as thalassemia_sev          \n",
      "            ,thalpul as thalassemia_pul              \n",
      "--            ,earlobe            \n",
      "--            ,cmo            \n",
      "--            ,cday            \n",
      "--            ,cyr            \n",
      "            ,case\n",
      "                when num = 0\n",
      "                then 0\n",
      "                else 1\n",
      "            end as num\n",
      "--            ,lmt as left_main_trunk           \n",
      "--            ,ladprox as proximal_left_anterior_descending_artery       \n",
      "--            ,laddist as distal_left_anterior_descending_artery        \n",
      "--            ,diag            \n",
      "--            ,cxmain as main_circumflex_artery            \n",
      "--            ,ramus            \n",
      "--            ,om1            \n",
      "--            ,om2            \n",
      "--            ,rcaprox as proximal_right_coronary_artery   \n",
      "--            ,rcadist            \n",
      "--            ,lvx1            \n",
      "--            ,lvx2            \n",
      "--            ,lvx3            \n",
      "--            ,lvx4            \n",
      "--            ,lvf            \n",
      "--            ,cathef            \n",
      "--            ,junk            \n",
      "--            ,name            \n",
      "--            ,hospital            \n",
      "            \n",
      "from         heart_disease.all_data\n",
      "\n",
      "-- where        hospital = 'cleveland'\n",
      "\"\"\")\n",
      "\n",
      "data = list(cursor.fetchall()) \n",
      "df = pd.DataFrame(data)\n",
      "# close connection to mysql    \n",
      "cursor.close()\n",
      "db.close()\n",
      "\n",
      "# convert categorical fields to dummys \n",
      "#sex_dummies = pd.get_dummies(df['sex'])\n",
      "#painloc_dummies = pd.get_dummies(df['painloc'])\n",
      "#painexer_dummies = pd.get_dummies(df['painexer'])\n",
      "#relrest_dummies = pd.get_dummies(df['relrest'])\n",
      "restecg_dummies = pd.get_dummies(df['restecg'])\n",
      "cp_dummies = pd.get_dummies(df['cp'])\n",
      "#proto_dummies = pd.get_dummies(df['proto'])\n",
      "#slope_dummies = pd.get_dummies(df['slope'])\n",
      "#restwm_dummies = pd.get_dummies(df['restwm'])\n",
      "#thal_dummies = pd.get_dummies(df['thal'])\n",
      "#hospital_dummies = pd.get_dummies(df['hospital'])\n",
      "\n",
      "\n",
      "\n",
      "# add dummies to dat frame\n",
      "df = pd.concat([\n",
      "                df\n",
      "#                ,sex_dummies\n",
      "#                ,painloc_dummies\n",
      "#                , painexer_dummies\n",
      "#                , relrest_dummies\n",
      "                , cp_dummies\n",
      "#                , proto_dummies\n",
      "#                , slope_dummies\n",
      "#                , restwm_dummies\n",
      "#                , thal_dummies\n",
      "#                , hospital_dummies\n",
      "                ]\n",
      "               , axis=1)\n",
      "\n",
      "#del df['sex']\n",
      "#del df['painloc']\n",
      "#del df['painexer']\n",
      "#del df['relrest']\n",
      "del df['restecg']\n",
      "del df['cp']\n",
      "#del df['proto']\n",
      "#del df['slope']\n",
      "#del df['restwm']\n",
      "#del df['thal']\n",
      "#del df['hospital']\n",
      "\n",
      "#df.fillna(0, inplace=True)\n",
      "\n",
      "for i in zip(list(df.columns.values),list(len(df.index)-df.count(axis=0))):\n",
      "    if i[1] > 400 :\n",
      "        del df[i[0]]\n",
      "\n",
      "cleaned_df = df.dropna(how='any')\n",
      "\n",
      "print cleaned_df.shape\n",
      "#cleaned_df"
     ],
     "language": "python",
     "metadata": {},
     "outputs": [
      {
       "output_type": "stream",
       "stream": "stdout",
       "text": [
        "(806, 15)\n"
       ]
      }
     ],
     "prompt_number": 3
    },
    {
     "cell_type": "heading",
     "level": 3,
     "metadata": {},
     "source": [
      "Build Data Sets"
     ]
    },
    {
     "cell_type": "code",
     "collapsed": false,
     "input": [
      "header = list(cleaned_df.columns.values)\n",
      "header.remove('num')\n",
      "minmax_X = preprocessing.MinMaxScaler().fit_transform(cleaned_df[header])\n",
      "X = preprocessing.scale(cleaned_df[header])\n",
      "y = cleaned_df['num']\n",
      "\n",
      "X_training, X_testing, y_training, y_testing = train_test_split(\n",
      "     X, y, test_size=0.33)\n",
      "\n",
      "minmax_X_training, minmax_X_testing, minmax_y_training, minmax_y_testing = train_test_split(\n",
      "     minmax_X, y, test_size=0.33)"
     ],
     "language": "python",
     "metadata": {},
     "outputs": [],
     "prompt_number": 4
    },
    {
     "cell_type": "heading",
     "level": 3,
     "metadata": {},
     "source": [
      "Dumb Model: Guess all Positive"
     ]
    },
    {
     "cell_type": "code",
     "collapsed": false,
     "input": [
      "positive = [i for i in y if i == 1]\n",
      "negative = [i for i in y if i == 0]\n",
      "\n",
      "x_axis = [0,1]\n",
      "y_axis = [len(negative), len(positive)]\n",
      "\n",
      "fig = plt.figure(figsize=(8,6), dpi=72, facecolor=\"white\")\n",
      "axes = plt.subplot(111)\n",
      "axes.hist(y, bins=5, range=[-.5, 1.5], color='blue', alpha=0.5)\n",
      "axes.spines['right'].set_color('none')\n",
      "axes.spines['top'].set_color('none')\n",
      "axes.xaxis.set_ticks_position('bottom')\n",
      "axes.yaxis.set_ticks_position('left')\n",
      "plt.title(\"Distribution of Coronary Heart Disease in Dataset\")\n",
      "plt.xlabel(\"Coronary Heart Disease Diagnosis\")\n",
      "plt.ylabel(\"Number of Cases\")\n",
      "plt.xticks([0.1,0.9],['Negative','Positive'])\n",
      "plt.ylim(0,max([len(negative), len(positive)])*1.15)\n",
      "\n",
      "all_negative_accuracy = float(len(negative))/float(len(y))\n",
      "print 'Guessing all negative: %.3f' % all_negative_accuracy\n",
      "\n",
      "all_positive_accuracy = float(len(positive))/float(len(y))\n",
      "print 'Guessing all positive: %.3f' % all_positive_accuracy"
     ],
     "language": "python",
     "metadata": {},
     "outputs": [
      {
       "output_type": "stream",
       "stream": "stdout",
       "text": [
        "Guessing all negative: 0.452\n",
        "Guessing all positive: 0.548\n"
       ]
      },
      {
       "metadata": {},
       "output_type": "display_data",
       "png": "[encoded data removed]",
       "text": [
        "<matplotlib.figure.Figure at 0x115bb13d0>"
       ]
      }
     ],
     "prompt_number": 5
    },
    {
     "cell_type": "heading",
     "level": 3,
     "metadata": {},
     "source": [
      "Logistic Regression Model"
     ]
    },
    {
     "cell_type": "code",
     "collapsed": false,
     "input": [
      "# Tune the value of C\n",
      "log_accuracy = []\n",
      "cs = []\n",
      "\n",
      "for k in range(1, 101):\n",
      "    C = .01 * k\n",
      "    cs.append(C)\n",
      "    log_model = LogisticRegression(penalty='l1', C=C)\n",
      "    log_accuracy.append(np.mean(cross_val_score(log_model, X, y, cv=50)))\n",
      "    \n",
      "fig = plt.figure(figsize=(10,6), dpi=72, facecolor=\"white\")\n",
      "axes = plt.subplot(111)\n",
      "axes.plot(cs, log_accuracy)\n",
      "axes.spines['right'].set_color('none')\n",
      "axes.spines['top'].set_color('none')\n",
      "axes.xaxis.set_ticks_position('bottom')\n",
      "axes.yaxis.set_ticks_position('left')\n",
      "plt.title(\"Affect of C on Accuracy - Logistic Regression\")\n",
      "plt.xlabel(\"C Value\")\n",
      "plt.ylabel(\"Cross Validated Accuracy\")\n",
      "plt.xticks([0.1,0.2,0.3,0.4,0.5,0.6,0.7,0.8,0.9,1.0])\n",
      "\n",
      "print \"Max Accuracy: %.3f\" % (max(log_accuracy))\n",
      "\n",
      "c_log = (log_accuracy.index(max(log_accuracy)) + 1) * .01\n",
      "print \"C Used: %.2f\" % c_log\n",
      "\n",
      "# Build Model\n",
      "logistic_model = LogisticRegression(penalty='l1', C=c_log)"
     ],
     "language": "python",
     "metadata": {},
     "outputs": [
      {
       "output_type": "stream",
       "stream": "stdout",
       "text": [
        "Max Accuracy: 0.809\n",
        "C Used: 0.71\n"
       ]
      },
      {
       "metadata": {},
       "output_type": "display_data",
       "png": "[encoded data removed]",
       "text": [
        "<matplotlib.figure.Figure at 0x115bb1090>"
       ]
      }
     ],
     "prompt_number": 6
    },
    {
     "cell_type": "code",
     "collapsed": false,
     "input": [
      "# Test Convergence of Model\n",
      "training_accuracy_score_chart_list = []\n",
      "testing_accuracy_score_chart_list = []\n",
      "accuracy_score_chart_index = []\n",
      "\n",
      "for i in range(5, X_training.shape[0], 5):\n",
      "    temp_model = LogisticRegression(penalty='l1', C=c_log).fit(X_training[:i], y_training[:i])\n",
      "    training_accuracy_score_chart_list.append(accuracy_score(y_training, temp_model.predict(X_training)))\n",
      "    testing_accuracy_score_chart_list.append(accuracy_score(y_testing, temp_model.predict(X_testing)))\n",
      "    accuracy_score_chart_index.append(i)\n",
      "\n",
      "fig = plt.figure(figsize=(10,6), dpi=72, facecolor=\"white\")\n",
      "axes = plt.subplot(111)\n",
      "axes.plot(accuracy_score_chart_index, training_accuracy_score_chart_list, color='red')    \n",
      "axes.plot(accuracy_score_chart_index, testing_accuracy_score_chart_list, color='green')    \n",
      "axes.spines['right'].set_color('none')\n",
      "axes.spines['top'].set_color('none')\n",
      "axes.xaxis.set_ticks_position('bottom')\n",
      "axes.yaxis.set_ticks_position('left')\n",
      "plt.title(\"Convergence of Model - Logistic Regression\")\n",
      "plt.xlabel(\"Training Set Size\")\n",
      "plt.ylabel(\"Accuracy\")"
     ],
     "language": "python",
     "metadata": {},
     "outputs": [
      {
       "metadata": {},
       "output_type": "pyout",
       "prompt_number": 7,
       "text": [
        "<matplotlib.text.Text at 0x115cf5350>"
       ]
      },
      {
       "metadata": {},
       "output_type": "display_data",
       "png": "[encoded data removed]",
       "text": [
        "<matplotlib.figure.Figure at 0x115d7ad90>"
       ]
      }
     ],
     "prompt_number": 7
    },
    {
     "cell_type": "code",
     "collapsed": false,
     "input": [
      "# Measure Success of Model\n",
      "log_cross_val = generic_cross_validation(logistic_model, X, y, 50)\n",
      "\n",
      "accuracy_dict['Logistic Regression'] = log_cross_val['mean']['accuracy']\n",
      "precision_dict['Logistic Regression'] = log_cross_val['mean']['precision']\n",
      "recall_dict['Logistic Regression'] = log_cross_val['mean']['recall']\n",
      "f1_dict['Logistic Regression'] = log_cross_val['mean']['f1']\n",
      "\n",
      "print \"Logistic Cross Validation:\"\n",
      "print \" -- Accuracy: %0.3f (+/- %0.3f)\" % (log_cross_val['mean']['accuracy'], \n",
      "                                           log_cross_val['std']['accuracy'])\n",
      "print \" -- Precision: %0.3f (+/- %0.3f)\" % (log_cross_val['mean']['precision'], \n",
      "                                           log_cross_val['std']['precision'])\n",
      "print \" -- Recall: %0.3f (+/- %0.3f)\" % (log_cross_val['mean']['recall'], \n",
      "                                           log_cross_val['std']['recall'])\n",
      "print \" -- F1: %0.3f (+/- %0.3f)\" % (log_cross_val['mean']['f1'], \n",
      "                                           log_cross_val['std']['f1'])\n",
      "\n",
      "logistic_probas = logistic_model.fit(X_training, y_training).decision_function(X_testing)\n",
      "logistic_fpr, logistic_tpr, logistic_thresholds = roc_curve(y_testing, logistic_probas, pos_label=1)\n",
      "logistic_auc = auc(logistic_fpr, logistic_tpr)\n",
      "auc_dict['Logistic Regression'] = logistic_auc\n",
      "print \" -- AUC: %0.3f\" % logistic_auc"
     ],
     "language": "python",
     "metadata": {},
     "outputs": [
      {
       "output_type": "stream",
       "stream": "stdout",
       "text": [
        "Logistic Cross Validation:\n",
        " -- Accuracy: 0.809 (+/- 0.110)\n",
        " -- Precision: 0.840 (+/- 0.127)\n",
        " -- Recall: 0.838 (+/- 0.138)\n",
        " -- F1: 0.826 (+/- 0.098)\n",
        " -- AUC: 0.895\n"
       ]
      }
     ],
     "prompt_number": 8
    },
    {
     "cell_type": "code",
     "collapsed": false,
     "input": [
      "# Report Coefficients\n",
      "log_coef_map = zip(logistic_model.coef_.tolist()[0],header)\n",
      "log_coef_map.sort()\n",
      "print \"Coefficients of Logistic Regression:\\n\"\n",
      "for i, j in log_coef_map:\n",
      "    print \"%30s: %0.3f\" % (j, i)"
     ],
     "language": "python",
     "metadata": {},
     "outputs": [
      {
       "output_type": "stream",
       "stream": "stdout",
       "text": [
        "Coefficients of Logistic Regression:\n",
        "\n",
        "                   cholesterol: -0.293\n",
        "                max_heart_rate: -0.206\n",
        "   atypical_anginal_chest_pain: -0.200\n",
        "               normal_st_slope: -0.096\n",
        "        non-anginal_chest_pain: 0.000\n",
        "        resting_blood_pressure: 0.000\n",
        "    typical_anginal_chest_pain: 0.091\n",
        "severe_rest_motion_abnormality: 0.203\n",
        "                           age: 0.266\n",
        "                   thalassemia: 0.376\n",
        "                          male: 0.410\n",
        "                 st_depression: 0.504\n",
        "       exercise_induced_angina: 0.551\n",
        "       asymptomatic_chest_pain: 0.676\n"
       ]
      }
     ],
     "prompt_number": 9
    },
    {
     "cell_type": "heading",
     "level": 3,
     "metadata": {},
     "source": [
      "kNN Model"
     ]
    },
    {
     "cell_type": "code",
     "collapsed": false,
     "input": [
      "# Tune the value of k\n",
      "knn_accuracy = []\n",
      "ks = []\n",
      "\n",
      "max_k = cleaned_df.shape[1]\n",
      "for k in range(1, max_k):\n",
      "    ks.append(k)\n",
      "    neigh = KNeighborsClassifier(n_neighbors=k)\n",
      "    knn_accuracy.append(np.mean(cross_val_score(neigh, X, y, cv=50)))\n",
      "\n",
      "    \n",
      "fig = plt.figure(figsize=(10,6), dpi=72, facecolor=\"white\")\n",
      "axes = plt.subplot(111)\n",
      "axes.plot(ks, knn_accuracy)\n",
      "axes.spines['right'].set_color('none')\n",
      "axes.spines['top'].set_color('none')\n",
      "axes.xaxis.set_ticks_position('bottom')\n",
      "axes.yaxis.set_ticks_position('left')\n",
      "plt.title(\"Affect of k on Accuracy - kNN\")\n",
      "plt.xticks(range(1,(max_k+1)))\n",
      "plt.xlabel(\"k Value\")\n",
      "plt.ylabel(\"Cross Validated Accuracy\")\n",
      "\n",
      "print \"Max Accuracy: %.3f\" % (max(knn_accuracy))\n",
      "\n",
      "k = knn_accuracy.index(max(knn_accuracy))+1\n",
      "print \"k Used: %d\" % k\n",
      "\n",
      "# Build Model\n",
      "knn_model = KNeighborsClassifier(k)"
     ],
     "language": "python",
     "metadata": {},
     "outputs": [
      {
       "output_type": "stream",
       "stream": "stdout",
       "text": [
        "Max Accuracy: 0.809\n",
        "k Used: 9\n"
       ]
      },
      {
       "metadata": {},
       "output_type": "display_data",
       "png": "[encoded data removed]",
       "text": [
        "<matplotlib.figure.Figure at 0x115d1d450>"
       ]
      }
     ],
     "prompt_number": 10
    },
    {
     "cell_type": "code",
     "collapsed": false,
     "input": [
      "# Measure Success of Model\n",
      "knn_cross_val = generic_cross_validation(knn_model, X, y, 50)\n",
      "\n",
      "accuracy_dict['kNN'] = knn_cross_val['mean']['accuracy']\n",
      "precision_dict['kNN'] = knn_cross_val['mean']['precision']\n",
      "recall_dict['kNN'] = knn_cross_val['mean']['recall']\n",
      "f1_dict['kNN'] = knn_cross_val['mean']['f1']\n",
      "\n",
      "print \"KNN Validation:\"\n",
      "print \" -- Accuracy: %0.3f (+/- %0.3f)\" % (knn_cross_val['mean']['accuracy'], \n",
      "                                           knn_cross_val['std']['accuracy'])\n",
      "print \" -- Precision: %0.3f (+/- %0.3f)\" % (knn_cross_val['mean']['precision'], \n",
      "                                           knn_cross_val['std']['precision'])\n",
      "print \" -- Recall: %0.3f (+/- %0.3f)\" % (knn_cross_val['mean']['recall'], \n",
      "                                           knn_cross_val['std']['recall'])\n",
      "print \" -- F1: %0.3f (+/- %0.3f)\" % (knn_cross_val['mean']['f1'], \n",
      "                                           knn_cross_val['std']['f1'])\n",
      "\n",
      "knn_probas = knn_model.fit(X_training, y_training).predict_proba(X_testing)\n",
      "knn_fpr, knn_tpr, knn_thresholds = roc_curve(y_testing, knn_probas[:, 1], pos_label=1)\n",
      "knn_auc = auc(knn_fpr, knn_tpr)\n",
      "auc_dict['kNN'] = knn_auc\n",
      "print \" -- AUC: %.3f\" % knn_auc"
     ],
     "language": "python",
     "metadata": {},
     "outputs": [
      {
       "output_type": "stream",
       "stream": "stdout",
       "text": [
        "KNN Validation:\n",
        " -- Accuracy: 0.809 (+/- 0.107)\n",
        " -- Precision: 0.846 (+/- 0.111)\n",
        " -- Recall: 0.816 (+/- 0.149)\n",
        " -- F1: 0.820 (+/- 0.103)\n",
        " -- AUC: 0.886\n"
       ]
      }
     ],
     "prompt_number": 11
    },
    {
     "cell_type": "heading",
     "level": 3,
     "metadata": {},
     "source": [
      "Gaussian Naive Bayes Model"
     ]
    },
    {
     "cell_type": "code",
     "collapsed": false,
     "input": [
      "# Build Model\n",
      "gauss_model = GaussianNB()"
     ],
     "language": "python",
     "metadata": {},
     "outputs": [],
     "prompt_number": 12
    },
    {
     "cell_type": "code",
     "collapsed": false,
     "input": [
      "# Measure Success of Model\n",
      "gauss_cross_val = generic_cross_validation(gauss_model, X, y, 50)\n",
      "\n",
      "accuracy_dict['Gaussian Naive Bayes'] = gauss_cross_val['mean']['accuracy']\n",
      "precision_dict['Gaussian Naive Bayes'] = gauss_cross_val['mean']['precision']\n",
      "recall_dict['Gaussian Naive Bayes'] = gauss_cross_val['mean']['recall']\n",
      "f1_dict['Gaussian Naive Bayes'] = gauss_cross_val['mean']['f1']\n",
      "\n",
      "print \"Gaussian Naive Bayes Cross Validation:\"\n",
      "print \" -- Accuracy: %0.3f (+/- %0.3f)\" % (gauss_cross_val['mean']['accuracy'], \n",
      "                                           gauss_cross_val['std']['accuracy'])\n",
      "print \" -- Precision: %0.3f (+/- %0.3f)\" % (gauss_cross_val['mean']['precision'], \n",
      "                                           gauss_cross_val['std']['precision'])\n",
      "print \" -- Recall: %0.3f (+/- %0.3f)\" % (gauss_cross_val['mean']['recall'], \n",
      "                                           gauss_cross_val['std']['recall'])\n",
      "print \" -- F1: %0.3f (+/- %0.3f)\" % (gauss_cross_val['mean']['f1'], \n",
      "                                           gauss_cross_val['std']['f1'])\n",
      "\n",
      "gauss_probas = gauss_model.fit(X_training, y_training).predict_proba(X_testing)\n",
      "gauss_fpr, gauss_tpr, gauss_thresholds = roc_curve(y_testing, gauss_probas[:, 1], pos_label=1)\n",
      "gauss_auc = auc(gauss_fpr, gauss_tpr)\n",
      "auc_dict['Gaussian Naive Bayes'] = gauss_auc\n",
      "print \" -- AUC: %.3f\" % gauss_auc"
     ],
     "language": "python",
     "metadata": {},
     "outputs": [
      {
       "output_type": "stream",
       "stream": "stdout",
       "text": [
        "Gaussian Naive Bayes Cross Validation:\n",
        " -- Accuracy: 0.551 (+/- 0.079)\n",
        " -- Precision: 0.791 (+/- 0.384)\n",
        " -- Recall: 0.195 (+/- 0.157)\n",
        " -- F1: 0.295 (+/- 0.200)\n",
        " -- AUC: 0.886\n"
       ]
      }
     ],
     "prompt_number": 14
    },
    {
     "cell_type": "heading",
     "level": 3,
     "metadata": {},
     "source": [
      "Multinomial Naive Bayes Model"
     ]
    },
    {
     "cell_type": "code",
     "collapsed": false,
     "input": [
      "# Build Model\n",
      "multinomial_model = MultinomialNB()"
     ],
     "language": "python",
     "metadata": {},
     "outputs": [],
     "prompt_number": 15
    },
    {
     "cell_type": "code",
     "collapsed": false,
     "input": [
      "multi_cross_val = generic_cross_validation(multinomial_model, minmax_X, y, 50)\n",
      "\n",
      "accuracy_dict['Multinomial Naive Bayes'] = multi_cross_val['mean']['accuracy']\n",
      "precision_dict['Multinomial Naive Bayes'] = multi_cross_val['mean']['precision']\n",
      "recall_dict['Multinomial Naive Bayes'] = multi_cross_val['mean']['recall']\n",
      "f1_dict['Multinomial Naive Bayes'] = multi_cross_val['mean']['f1']\n",
      "\n",
      "print \"Multinomial Naive Bayes Cross Validation:\"\n",
      "print \" -- Accuracy: %0.3f (+/- %0.3f)\" % (multi_cross_val['mean']['accuracy'], \n",
      "                                           multi_cross_val['std']['accuracy'])\n",
      "print \" -- Precision: %0.3f (+/- %0.3f)\" % (multi_cross_val['mean']['precision'], \n",
      "                                           multi_cross_val['std']['precision'])\n",
      "print \" -- Recall: %0.3f (+/- %0.3f)\" % (multi_cross_val['mean']['recall'], \n",
      "                                           multi_cross_val['std']['recall'])\n",
      "print \" -- F1: %0.3f (+/- %0.3f)\" % (multi_cross_val['mean']['f1'], \n",
      "                                           multi_cross_val['std']['f1'])\n",
      "\n",
      "multi_probas = multinomial_model.fit(minmax_X_training, minmax_y_training).predict_proba(minmax_X_testing)\n",
      "multi_fpr, multi_tpr, multi_thresholds = roc_curve(minmax_y_testing, multi_probas[:, 1], pos_label=1)\n",
      "multi_auc = auc(multi_fpr, multi_tpr)\n",
      "auc_dict['Multinomial Naive Bayes'] = multi_auc\n",
      "print \" -- AUC: %.3f\" % multi_auc"
     ],
     "language": "python",
     "metadata": {},
     "outputs": [
      {
       "output_type": "stream",
       "stream": "stdout",
       "text": [
        "Multinomial Naive Bayes Cross Validation:\n",
        " -- Accuracy: 0.782 (+/- 0.103)\n",
        " -- Precision: 0.791 (+/- 0.102)\n",
        " -- Recall: 0.836 (+/- 0.126)\n",
        " -- F1: 0.806 (+/- 0.095)\n",
        " -- AUC: 0.850\n"
       ]
      }
     ],
     "prompt_number": 16
    },
    {
     "cell_type": "heading",
     "level": 3,
     "metadata": {},
     "source": [
      "SVC (RBF Kernel) Model"
     ]
    },
    {
     "cell_type": "code",
     "collapsed": false,
     "input": [
      "# Tune the value of C\n",
      "svc_accuracy = []\n",
      "cs = []\n",
      "\n",
      "for k in range(1, 101):\n",
      "    c = .01 * k\n",
      "    cs.append(c)\n",
      "    svc_model = SVC(C=c)\n",
      "    svc_accuracy.append(np.mean(cross_val_score(svc_model, X, y, cv=50)))\n",
      "\n",
      "fig = plt.figure(figsize=(10,6), dpi=72, facecolor=\"white\")\n",
      "axes = plt.subplot(111)\n",
      "axes.plot(cs, svc_accuracy)\n",
      "axes.spines['right'].set_color('none')\n",
      "axes.spines['top'].set_color('none')\n",
      "axes.xaxis.set_ticks_position('bottom')\n",
      "axes.yaxis.set_ticks_position('left')\n",
      "plt.title(\"Affect of C on Accuracy - SVC\")\n",
      "plt.xlabel(\"C Value\")\n",
      "plt.ylabel(\"Cross Validated Accuracy\")\n",
      "plt.xticks([0.1,0.2,0.3,0.4,0.5,0.6,0.7,0.8,0.9,1.0])\n",
      "\n",
      "print \"Max Accuracy: %.3f\" % (max(svc_accuracy))\n",
      "\n",
      "c_svc = (svc_accuracy.index(max(svc_accuracy)) + 1) * .01\n",
      "print \"C Used: %.2f\" % c_svc\n",
      "\n",
      "# Build Model\n",
      "svc_model = SVC(C=c_svc)"
     ],
     "language": "python",
     "metadata": {},
     "outputs": [
      {
       "output_type": "stream",
       "stream": "stdout",
       "text": [
        "Max Accuracy: 0.818\n",
        "C Used: 0.42\n"
       ]
      },
      {
       "metadata": {},
       "output_type": "display_data",
       "png": "[encoded data removed]",
       "text": [
        "<matplotlib.figure.Figure at 0x115b55650>"
       ]
      }
     ],
     "prompt_number": 17
    },
    {
     "cell_type": "code",
     "collapsed": false,
     "input": [
      "# Measure Success of Model\n",
      "svc_cross_val = generic_cross_validation(svc_model, X, y, 50)\n",
      "\n",
      "accuracy_dict['SVC (RBF Kernel)'] = svc_cross_val['mean']['accuracy']\n",
      "precision_dict['SVC (RBF Kernel)'] = svc_cross_val['mean']['precision']\n",
      "recall_dict['SVC (RBF Kernel)'] = svc_cross_val['mean']['recall']\n",
      "f1_dict['SVC (RBF Kernel)'] = svc_cross_val['mean']['f1']\n",
      "\n",
      "print \"SVC (RBF Kernel) Cross Validation:\"\n",
      "print \" -- Accuracy: %0.3f (+/- %0.3f)\" % (svc_cross_val['mean']['accuracy'], \n",
      "                                           svc_cross_val['std']['accuracy'])\n",
      "print \" -- Precision: %0.3f (+/- %0.3f)\" % (svc_cross_val['mean']['precision'], \n",
      "                                           svc_cross_val['std']['precision'])\n",
      "print \" -- Recall: %0.3f (+/- %0.3f)\" % (svc_cross_val['mean']['recall'], \n",
      "                                           svc_cross_val['std']['recall'])\n",
      "print \" -- F1: %0.3f (+/- %0.3f)\" % (svc_cross_val['mean']['f1'], \n",
      "                                           svc_cross_val['std']['f1'])\n",
      "\n",
      "svc_probas = svc_model.fit(X_training, y_training).decision_function(X_testing)\n",
      "svc_fpr, svc_tpr, svc_thresholds = roc_curve(y_testing, svc_probas, pos_label=1)\n",
      "svc_auc = auc(svc_fpr, svc_tpr)\n",
      "auc_dict['SVC (RBF Kernel)'] = svc_auc\n",
      "print \" -- AUC: %.3f\" % svc_auc"
     ],
     "language": "python",
     "metadata": {},
     "outputs": [
      {
       "output_type": "stream",
       "stream": "stdout",
       "text": [
        "SVC (RBF Kernel) Cross Validation:\n",
        " -- Accuracy: 0.818 (+/- 0.110)\n",
        " -- Precision: 0.826 (+/- 0.118)\n",
        " -- Recall: 0.872 (+/- 0.122)\n",
        " -- F1: 0.840 (+/- 0.092)\n",
        " -- AUC: 0.896\n"
       ]
      }
     ],
     "prompt_number": 18
    },
    {
     "cell_type": "heading",
     "level": 3,
     "metadata": {},
     "source": [
      "SVC (Linear Kernel) Model"
     ]
    },
    {
     "cell_type": "code",
     "collapsed": false,
     "input": [
      "# Tune the value of C\n",
      "svc_lin_accuracy = []\n",
      "cs = []\n",
      "\n",
      "for k in range(1, 101):\n",
      "    c = .01 * k\n",
      "    cs.append(c)\n",
      "    svc_lin_model = LinearSVC(C=c, dual=False, penalty='l1')\n",
      "    svc_lin_accuracy.append(np.mean(cross_val_score(svc_lin_model, X, y, cv=50)))\n",
      "\n",
      "fig = plt.figure(figsize=(10,6), dpi=72, facecolor=\"white\")\n",
      "axes = plt.subplot(111)\n",
      "axes.plot(cs, svc_lin_accuracy)\n",
      "axes.spines['right'].set_color('none')\n",
      "axes.spines['top'].set_color('none')\n",
      "axes.xaxis.set_ticks_position('bottom')\n",
      "axes.yaxis.set_ticks_position('left')\n",
      "plt.title(\"Affect of C on Accuracy - Linear SVC\")\n",
      "plt.xlabel(\"C Value\")\n",
      "plt.ylabel(\"Cross Validated Accuracy\")\n",
      "\n",
      "print \"Accuracy: %.3f\" % (max(svc_lin_accuracy))\n",
      "\n",
      "c_svc_lin = (svc_lin_accuracy.index(max(svc_lin_accuracy)) + 1) * .01\n",
      "print \"C Used: %.2f\" % c_svc_lin\n",
      "\n",
      "# Build Model\n",
      "svc_lin_model = LinearSVC(C=c_svc_lin, dual=False, penalty='l1')"
     ],
     "language": "python",
     "metadata": {},
     "outputs": [
      {
       "output_type": "stream",
       "stream": "stdout",
       "text": [
        "Accuracy: 0.807\n",
        "C Used: 0.10\n"
       ]
      },
      {
       "metadata": {},
       "output_type": "display_data",
       "png": "[encoded data removed]",
       "text": [
        "<matplotlib.figure.Figure at 0x11627b510>"
       ]
      }
     ],
     "prompt_number": 19
    },
    {
     "cell_type": "code",
     "collapsed": false,
     "input": [
      "# Measure Success of Model\n",
      "svc_lin_cross_val = generic_cross_validation(svc_lin_model, X, y, 50)\n",
      "\n",
      "accuracy_dict['Linear SVC'] = svc_lin_cross_val['mean']['accuracy']\n",
      "precision_dict['Linear SVC'] = svc_lin_cross_val['mean']['precision']\n",
      "recall_dict['Linear SVC'] = svc_lin_cross_val['mean']['recall']\n",
      "f1_dict['Linear SVC'] = svc_lin_cross_val['mean']['f1']\n",
      "\n",
      "print \"Linear SVC Cross Validation:\"\n",
      "print \" -- Accuracy: %0.3f (+/- %0.3f)\" % (svc_lin_cross_val['mean']['accuracy'], \n",
      "                                           svc_lin_cross_val['std']['accuracy'])\n",
      "print \" -- Precision: %0.3f (+/- %0.3f)\" % (svc_lin_cross_val['mean']['precision'], \n",
      "                                           svc_lin_cross_val['std']['precision'])\n",
      "print \" -- Recall: %0.3f (+/- %0.3f)\" % (svc_lin_cross_val['mean']['recall'], \n",
      "                                           svc_lin_cross_val['std']['recall'])\n",
      "print \" -- F1: %0.3f (+/- %0.3f)\" % (svc_lin_cross_val['mean']['f1'], \n",
      "                                           svc_lin_cross_val['std']['f1'])\n",
      "\n",
      "svc_lin_probas = svc_lin_model.fit(X_training, y_training).decision_function(X_testing)\n",
      "svc_lin_fpr, svc_lin_tpr, svc_lin_thresholds = roc_curve(y_testing, svc_lin_probas, pos_label=1)\n",
      "svc_lin_auc = auc(svc_lin_fpr, svc_lin_tpr)\n",
      "auc_dict['Linear SVC'] = svc_lin_auc\n",
      "print \" -- AUC: %.3f\" % svc_lin_auc"
     ],
     "language": "python",
     "metadata": {},
     "outputs": [
      {
       "output_type": "stream",
       "stream": "stdout",
       "text": [
        "Linear SVC Cross Validation:\n",
        " -- Accuracy: 0.807 (+/- 0.110)\n",
        " -- Precision: 0.840 (+/- 0.127)\n",
        " -- Recall: 0.831 (+/- 0.138)\n",
        " -- F1: 0.823 (+/- 0.099)\n",
        " -- AUC: 0.896\n"
       ]
      }
     ],
     "prompt_number": 20
    },
    {
     "cell_type": "code",
     "collapsed": false,
     "input": [
      "# Report Coefficients\n",
      "svc_lin_coef_map = zip(svc_lin_model.coef_.tolist()[0],header)\n",
      "svc_lin_coef_map.sort()\n",
      "print \"Coefficients of Linear SVC:\\n\"\n",
      "for i, j in svc_lin_coef_map:\n",
      "    print \"%30s: %0.3f\" % (j, i)"
     ],
     "language": "python",
     "metadata": {},
     "outputs": [
      {
       "output_type": "stream",
       "stream": "stdout",
       "text": [
        "Coefficients of Linear SVC:\n",
        "\n",
        "                   cholesterol: -0.105\n",
        "   atypical_anginal_chest_pain: -0.071\n",
        "                max_heart_rate: -0.067\n",
        "               normal_st_slope: -0.023\n",
        "        non-anginal_chest_pain: 0.000\n",
        "        resting_blood_pressure: 0.000\n",
        "    typical_anginal_chest_pain: 0.021\n",
        "severe_rest_motion_abnormality: 0.054\n",
        "                           age: 0.089\n",
        "                          male: 0.131\n",
        "                   thalassemia: 0.132\n",
        "                 st_depression: 0.170\n",
        "       exercise_induced_angina: 0.193\n",
        "       asymptomatic_chest_pain: 0.246\n"
       ]
      }
     ],
     "prompt_number": 21
    },
    {
     "cell_type": "heading",
     "level": 3,
     "metadata": {},
     "source": [
      "Decision Tree Model"
     ]
    },
    {
     "cell_type": "code",
     "collapsed": false,
     "input": [
      "# Build Model\n",
      "decision_tree_model = DecisionTreeClassifier()"
     ],
     "language": "python",
     "metadata": {},
     "outputs": [],
     "prompt_number": 22
    },
    {
     "cell_type": "code",
     "collapsed": false,
     "input": [
      "# Measure Success of Model\n",
      "dt_cross_val = generic_cross_validation(decision_tree_model, X, y, 50)\n",
      "\n",
      "accuracy_dict['Decision Tree'] = dt_cross_val['mean']['accuracy']\n",
      "precision_dict['Decision Tree'] = dt_cross_val['mean']['precision']\n",
      "recall_dict['Decision Tree'] = dt_cross_val['mean']['recall']\n",
      "f1_dict['Decision Tree'] = dt_cross_val['mean']['f1']\n",
      "\n",
      "print \"Decision Tree Cross Validation:\"\n",
      "print \" -- Accuracy: %0.3f (+/- %0.3f)\" % (dt_cross_val['mean']['accuracy'], \n",
      "                                           dt_cross_val['std']['accuracy'])\n",
      "print \" -- Precision: %0.3f (+/- %0.3f)\" % (dt_cross_val['mean']['precision'], \n",
      "                                           dt_cross_val['std']['precision'])\n",
      "print \" -- Recall: %0.3f (+/- %0.3f)\" % (dt_cross_val['mean']['recall'], \n",
      "                                           dt_cross_val['std']['recall'])\n",
      "print \" -- F1: %0.3f (+/- %0.3f)\" % (dt_cross_val['mean']['f1'], \n",
      "                                           dt_cross_val['std']['f1'])\n",
      "\n",
      "dt_probas = decision_tree_model.fit(X_training, y_training).predict_proba(X_testing)\n",
      "dt_fpr, dt_tpr, dt_thresholds = roc_curve(y_testing, dt_probas[:,1], pos_label=1)\n",
      "dt_auc = auc(dt_fpr, dt_tpr)\n",
      "auc_dict['Decision Tree'] = dt_auc\n",
      "print \" -- AUC: %.3f\" % dt_auc"
     ],
     "language": "python",
     "metadata": {},
     "outputs": [
      {
       "output_type": "stream",
       "stream": "stdout",
       "text": [
        "Decision Tree Cross Validation:\n",
        " -- Accuracy: 0.735 (+/- 0.114)\n",
        " -- Precision: 0.785 (+/- 0.136)\n",
        " -- Recall: 0.779 (+/- 0.144)\n",
        " -- F1: 0.746 (+/- 0.106)\n",
        " -- AUC: 0.731\n"
       ]
      }
     ],
     "prompt_number": 23
    },
    {
     "cell_type": "heading",
     "level": 3,
     "metadata": {},
     "source": [
      "Random Forest Model"
     ]
    },
    {
     "cell_type": "code",
     "collapsed": false,
     "input": [
      "# Build Model\n",
      "random_forest_model = RandomForestClassifier()"
     ],
     "language": "python",
     "metadata": {},
     "outputs": [],
     "prompt_number": 24
    },
    {
     "cell_type": "code",
     "collapsed": false,
     "input": [
      "# Measure Success of Model\n",
      "rf_cross_val = generic_cross_validation(random_forest_model, X, y, 50)\n",
      "\n",
      "accuracy_dict['Random Forest'] = rf_cross_val['mean']['accuracy']\n",
      "precision_dict['Random Forest'] = rf_cross_val['mean']['precision']\n",
      "recall_dict['Random Forest'] = rf_cross_val['mean']['recall']\n",
      "f1_dict['Random Forest'] = rf_cross_val['mean']['f1']\n",
      "\n",
      "print \"Random Forest Cross Validation:\"\n",
      "print \" -- Accuracy: %0.3f (+/- %0.3f)\" % (rf_cross_val['mean']['accuracy'], \n",
      "                                           rf_cross_val['std']['accuracy'])\n",
      "print \" -- Precision: %0.3f (+/- %0.3f)\" % (rf_cross_val['mean']['precision'], \n",
      "                                           rf_cross_val['std']['precision'])\n",
      "print \" -- Recall: %0.3f (+/- %0.3f)\" % (rf_cross_val['mean']['recall'], \n",
      "                                           rf_cross_val['std']['recall'])\n",
      "print \" -- F1: %0.3f (+/- %0.3f)\" % (rf_cross_val['mean']['f1'], \n",
      "                                           rf_cross_val['std']['f1'])\n",
      "\n",
      "rf_probas = random_forest_model.fit(X_training, y_training).predict_proba(X_testing)\n",
      "rf_fpr, rf_tpr, rf_thresholds = roc_curve(y_testing, rf_probas[:,1], pos_label=1)\n",
      "rf_auc = auc(rf_fpr, rf_tpr)\n",
      "auc_dict['Random Forest'] = rf_auc\n",
      "print \" -- AUC: %.3f\" % rf_auc"
     ],
     "language": "python",
     "metadata": {},
     "outputs": [
      {
       "output_type": "stream",
       "stream": "stdout",
       "text": [
        "Random Forest Cross Validation:\n",
        " -- Accuracy: 0.773 (+/- 0.115)\n",
        " -- Precision: 0.843 (+/- 0.129)\n",
        " -- Recall: 0.768 (+/- 0.173)\n",
        " -- F1: 0.791 (+/- 0.123)\n",
        " -- AUC: 0.876\n"
       ]
      }
     ],
     "prompt_number": 25
    },
    {
     "cell_type": "heading",
     "level": 3,
     "metadata": {},
     "source": [
      "Model Comparisons"
     ]
    },
    {
     "cell_type": "code",
     "collapsed": false,
     "input": [
      "# Build ROC Curves\n",
      "fig = plt.figure(figsize=(15,6), dpi=72, facecolor=\"white\")\n",
      "axes = plt.subplot(111)\n",
      "\n",
      "logistic_plot, = axes.plot(logistic_fpr, logistic_tpr, label='Logistic Regression')\n",
      "knn_plot, = axes.plot(knn_fpr, knn_tpr, label='KNN')\n",
      "gauss_plot, = axes.plot(gauss_fpr, gauss_tpr, label='Gaussian Naive Bayes')\n",
      "multi_plot, = axes.plot(multi_fpr, multi_tpr, label='Multinomial Naive Bayes')\n",
      "svc_plot, = axes.plot(svc_fpr, svc_tpr, label='SVC')\n",
      "svc_lin_plot, = axes.plot(svc_lin_fpr, svc_lin_tpr, label='Linear SVC')\n",
      "dt_plot, = axes.plot(dt_fpr, dt_tpr, label='Decision Tree')\n",
      "rf_plot, = axes.plot(rf_fpr, rf_tpr, label='Random Forest')\n",
      "\n",
      "axes.spines['right'].set_color('none')\n",
      "axes.spines['top'].set_color('none')\n",
      "axes.xaxis.set_ticks_position('bottom')\n",
      "axes.yaxis.set_ticks_position('left')\n",
      "plt.title(\"ROC Curve Comparison\")\n",
      "plt.xlabel('False Positive Rate')\n",
      "plt.ylabel('True Positive Rate')\n",
      "plt.legend(handles=[logistic_plot, knn_plot, gauss_plot, multi_plot, svc_plot, dt_plot, rf_plot])\n",
      "plt.legend(bbox_to_anchor=(.75, .50), loc=2, borderaxespad=0.)"
     ],
     "language": "python",
     "metadata": {},
     "outputs": [
      {
       "metadata": {},
       "output_type": "pyout",
       "prompt_number": 26,
       "text": [
        "<matplotlib.legend.Legend at 0x115cf55d0>"
       ]
      },
      {
       "metadata": {},
       "output_type": "display_data",
       "png": "[encoded data removed]",
       "text": [
        "<matplotlib.figure.Figure at 0x115f8ecd0>"
       ]
      }
     ],
     "prompt_number": 26
    },
    {
     "cell_type": "code",
     "collapsed": false,
     "input": [
      "# Export Metrics to CSVs\n",
      "with open('model_metrics_base.csv', 'w') as file_handle:\n",
      "    writer = csv.writer(file_handle)\n",
      "    writer.writerow([\"Model\",\"Accuracy\",\"Precision\",\"Recall\",\"F1\",\"AUC\"])\n",
      "    for key in list(accuracy_dict.keys()):\n",
      "        writer.writerow([key, accuracy_dict[key], precision_dict[key], recall_dict[key], f1_dict[key], auc_dict[key]])\n",
      "        \n",
      "\n",
      "key_list = [(recall_dict[key]\n",
      "             +accuracy_dict[key]\n",
      "             +f1_dict[key]\n",
      "             +precision_dict[key]\n",
      "             +auc_dict[key], key) for key in accuracy_dict.keys()]\n",
      "key_list = sorted(key_list, reverse=True)           \n",
      "        \n",
      "with open('model_metrics_interactive.csv', 'w') as file_handle:\n",
      "    writer = csv.writer(file_handle)\n",
      "    writer.writerow([\"group\",\"model\",\"value\"])\n",
      "    for value, key in key_list:\n",
      "        writer.writerow(['Recall', key, recall_dict[key]])\n",
      "        writer.writerow(['Accuracy', key, accuracy_dict[key]])\n",
      "        writer.writerow(['F1', key, f1_dict[key]])\n",
      "        writer.writerow(['Precision', key, precision_dict[key]])\n",
      "        writer.writerow(['AUC', key, auc_dict[key]])"
     ],
     "language": "python",
     "metadata": {},
     "outputs": [],
     "prompt_number": 49
    },
    {
     "cell_type": "code",
     "collapsed": false,
     "input": [
      "# Build Coefficient Dictionary\n",
      "coefficients = zip(logistic_model.coef_.tolist()[0], svc_lin_model.coef_.tolist()[0], header)\n",
      "coefficients = sorted(coefficients, key=operator.itemgetter(0))\n",
      "\n",
      "# Export Coefficients to CSV\n",
      "with open('coefficients.csv', 'w') as file_handle:\n",
      "    writer = csv.writer(file_handle)\n",
      "    writer.writerow([\"Coefficient\",\"Logistic Regression\",\"Linear SVC\"])\n",
      "    for a, b, c in coefficients:\n",
      "        writer.writerow([c, a, b])\n",
      "\n",
      "#coefficients"
     ],
     "language": "python",
     "metadata": {},
     "outputs": [],
     "prompt_number": 38
    },
    {
     "cell_type": "code",
     "collapsed": false,
     "input": [],
     "language": "python",
     "metadata": {},
     "outputs": []
    }
   ],
   "metadata": {}
  }
 ]
}