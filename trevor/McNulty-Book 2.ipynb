{
 "metadata": {
  "name": "",
  "signature": "sha256:dbae3b8a29514f70b478b30d80f000070a5bda28e24e319a6e1e542a8992e4b9"
 },
 "nbformat": 3,
 "nbformat_minor": 0,
 "worksheets": [
  {
   "cells": [
    {
     "cell_type": "code",
     "collapsed": false,
     "input": [
      "%matplotlib inline\n",
      "import pymysql\n",
      "import pandas as pd\n",
      "import numpy as np\n",
      "import matplotlib.pyplot as plt\n",
      "import operator\n",
      "from sklearn.neighbors import KNeighborsClassifier\n",
      "from sklearn.linear_model import LogisticRegression\n",
      "from sklearn.cross_validation import train_test_split\n",
      "from sklearn.cross_validation import cross_val_score\n",
      "from sklearn.metrics import accuracy_score\n",
      "from sklearn.metrics import precision_recall_curve\n"
     ],
     "language": "python",
     "metadata": {},
     "outputs": [],
     "prompt_number": 383
    },
    {
     "cell_type": "code",
     "collapsed": false,
     "input": [
      "# connec to mysql server\n",
      "db = pymysql.connect(host=\"104.131.118.159\",  #your cloud ip\n",
      "                     user='root',\n",
      "                     passwd='leftyheart',\n",
      "                     db='heart_disease')\n",
      "\n",
      "cursor = db.cursor(pymysql.cursors.DictCursor)\n",
      "\n",
      "# populate Data Frame\n",
      "cursor.execute(\"\"\"\n",
      "select         \n",
      "--           id      \n",
      "--          ,ccf            \n",
      "            age            \n",
      "/*            ,case\n",
      "                when sex = 1\n",
      "                then 'male'\n",
      "                when sex = 0\n",
      "                then 'female'\n",
      "            end as sex\n",
      "*/          ,sex\n",
      "/*            ,case             \n",
      "                when painloc = 1            \n",
      "                then 'painloc_substernal'            \n",
      "                when painloc = 0\n",
      "                then 'painloc_otherwise'            \n",
      "            end as painloc            */\n",
      "/*            ,case             \n",
      "                when painexer = 1            \n",
      "                then 'painexer_provoked_by_exertion'            \n",
      "                when painexer = 0\n",
      "                then 'painexer_otherwise'            \n",
      "            end as painexer            */\n",
      "/*            ,case             \n",
      "                when relrest = 1            \n",
      "                then 'relrest_relieved_after_rest'            \n",
      "                else 'relrest_otherwise'            \n",
      "            end as relrest       */     \n",
      "--            ,pncaden            \n",
      "            ,case             \n",
      "--                when cp = 1            \n",
      "--                then 'typical_angina '            \n",
      "--                when cp = 2            \n",
      "--                then 'atypical_angina'            \n",
      "--                when cp = 3            \n",
      "--                then 'non-anginal_pain'            \n",
      "                when cp = 4            \n",
      "--                then 'asymptomatic'            \n",
      "                then 1\n",
      "                else 0\n",
      "--            end as cp            \n",
      "            end as asymptomatic_chest_pain\n",
      "            ,trestbps as resting_blood_pressure            \n",
      "--            ,htn            \n",
      "            ,chol as cholesterol           \n",
      "            ,smoke            \n",
      "            ,cigs            \n",
      "            ,years            \n",
      "--            ,fbs            \n",
      "            ,dm            \n",
      "            ,famhist            \n",
      "/*            ,case             \n",
      "                when restecg = 0            \n",
      "                then 'restecg_normal'            \n",
      "                when restecg = 1            \n",
      "                then 'restecg_st-t_wave_abnormality'            \n",
      "                when restecg = 2            \n",
      "                then 'restecg_left_ventricular_hypertrophy'            \n",
      "            end as restecg          */  \n",
      "--            ,ekgmo            \n",
      "--            ,ekgday            \n",
      "--            ,ekgyr            \n",
      "--            ,dig            \n",
      "--            ,prop            \n",
      "--            ,nitr            \n",
      "--            ,pro            \n",
      "--            ,diuretic            \n",
      "/*            ,case            \n",
      "                when proto = 1            \n",
      "                then 'proto_bruce'            \n",
      "                when proto = 2            \n",
      "                then 'proto_kottus'            \n",
      "                when proto = 3            \n",
      "                then 'proto_mchenry'            \n",
      "                when proto = 4            \n",
      "                then 'proto_fast_balke'            \n",
      "                when proto = 5            \n",
      "                then 'proto_balke'            \n",
      "                when proto = 6            \n",
      "                then 'proto_noughton'            \n",
      "                when proto = 7            \n",
      "                then 'proto_bike_150'            \n",
      "                when proto = 8            \n",
      "                then 'proto_bike_125'            \n",
      "                when proto = 9            \n",
      "                then 'proto_bike_100'            \n",
      "                when proto = 10            \n",
      "                then 'proto_bike_75'            \n",
      "                when proto = 11            \n",
      "                then 'proto_bike_50'            \n",
      "                when proto = 12            \n",
      "                then 'proto_arm_ergometer'            \n",
      "            end as proto            */\n",
      "--            ,thaldur            \n",
      "            ,thaltime            \n",
      "            ,met as mets_achieved            \n",
      "            ,thalach as max_heart_rate           \n",
      "            ,thalrest as resting_heart_rate            \n",
      "--            ,tpeakbps            \n",
      "            ,tpeakbpd as peak_blood_pressure           \n",
      "--            ,dummy            \n",
      "            ,trestbpd as rest_blood_pressure           \n",
      "            ,exang as exercise_induced_angina           \n",
      "--            ,xhypo            \n",
      "            ,oldpeak as st_depression           \n",
      "            ,case            \n",
      "--                when slope = 1            \n",
      "--                then 'slope_upsloping'            \n",
      "                when slope = 2            \n",
      "--                then 'slope_flat'    \n",
      "                then 1\n",
      "                else 0\n",
      "--                when slope = 3            \n",
      "--                then 'slope_downsloping'            \n",
      "--            end as slope   \n",
      "            end as flat_st_slope\n",
      "            ,rldv5            \n",
      "            ,rldv5e as peak_exercise_height      \n",
      "            ,ca            \n",
      "            ,restckm            \n",
      "            ,exerckm            \n",
      "            ,restef            \n",
      "/*            ,case            \n",
      "                when restwm = 0            \n",
      "                then 'restwm_none'            \n",
      "                when restwm = 1            \n",
      "                then 'restwm_mild_moderate'            \n",
      "                when restwm = 2            \n",
      "                then 'restwm_moderate_severe'            \n",
      "                when restwm = 3            \n",
      "                then 'restwm_akinesis_dyskmem'            \n",
      "            end as restwm        */\n",
      "            ,exeref            \n",
      "            ,exerwm            \n",
      "            ,case             \n",
      "--                when thal = 3            \n",
      "--                then 'thal_normal'            \n",
      "--                when thal = 6            \n",
      "--                then 'thal_fixed_defect'            \n",
      "                when thal = 7            \n",
      "--                then 'thal_reversable_defect'            \n",
      "                then 1\n",
      "                else 0\n",
      "--            end as thal\n",
      "            end as 'thal_reversable_defect'\n",
      "            ,thalsev            \n",
      "            ,thalpul            \n",
      "            ,earlobe            \n",
      "--            ,cmo            \n",
      "--            ,cday            \n",
      "--            ,cyr            \n",
      "            ,case\n",
      "                when num = 0\n",
      "                then 0\n",
      "                else 1\n",
      "            end as num\n",
      "            ,lmt            \n",
      "            ,ladprox            \n",
      "            ,laddist            \n",
      "            ,diag            \n",
      "            ,cxmain            \n",
      "            ,ramus            \n",
      "            ,om1            \n",
      "            ,om2            \n",
      "            ,rcaprox            \n",
      "            ,rcadist            \n",
      "--            ,lvx1            \n",
      "--            ,lvx2            \n",
      "--            ,lvx3            \n",
      "            ,lvx4            \n",
      "--            ,lvf            \n",
      "            ,cathef            \n",
      "--            ,junk            \n",
      "--            ,name            \n",
      "--            ,hospital            \n",
      "            \n",
      "from         heart_disease.all_data\n",
      "\n",
      "-- where        hospital = 'long-beach'\n",
      "\"\"\")\n",
      "\n",
      "data = list(cursor.fetchall()) \n",
      "df = pd.DataFrame(data)\n",
      "# close connection to mysql    \n",
      "cursor.close()\n",
      "db.close()\n",
      "\n",
      "# convert categorical fields to dummys \n",
      "#sex_dummies = pd.get_dummies(df['sex'])\n",
      "#painloc_dummies = pd.get_dummies(df['painloc'])\n",
      "#painexer_dummies = pd.get_dummies(df['painexer'])\n",
      "#relrest_dummies = pd.get_dummies(df['relrest'])\n",
      "#restecg_dummies = pd.get_dummies(df['restecg'])\n",
      "#cp_dummies = pd.get_dummies(df['cp'])\n",
      "#proto_dummies = pd.get_dummies(df['proto'])\n",
      "#slope_dummies = pd.get_dummies(df['slope'])\n",
      "#restwm_dummies = pd.get_dummies(df['restwm'])\n",
      "#thal_dummies = pd.get_dummies(df['thal'])\n",
      "#hospital_dummies = pd.get_dummies(df['hospital'])\n",
      "\n",
      "\n",
      "\n",
      "# add dummies to dat frame\n",
      "df = pd.concat([\n",
      "                df\n",
      "#                ,sex_dummies\n",
      "#                ,painloc_dummies\n",
      "#                , painexer_dummies\n",
      "#                , relrest_dummies\n",
      "#                , cp_dummies\n",
      "#                , proto_dummies\n",
      "#                , slope_dummies\n",
      "#                , restwm_dummies\n",
      "#                , thal_dummies\n",
      "#                , hospital_dummies\n",
      "                ]\n",
      "               , axis=1)\n",
      "\n",
      "#del df['sex']\n",
      "#del df['painloc']\n",
      "#del df['painexer']\n",
      "#del df['relrest']\n",
      "#del df['restecg']\n",
      "#del df['cp']\n",
      "#del df['proto']\n",
      "#del df['slope']\n",
      "#del df['restwm']\n",
      "#del df['thal']\n",
      "#del df['hospital']\n",
      "\n",
      "#df.fillna(0, inplace=True)\n",
      "for i in zip(list(df.columns.values),list(len(df.index)-df.count(axis=0))):\n",
      "#    print i\n",
      "    if i[1] > 200 :\n",
      "        del df[i[0]]\n",
      "cleaned_df = df.dropna(how='any')\n",
      "\n",
      "print cleaned_df.shape\n",
      "#cleaned_df"
     ],
     "language": "python",
     "metadata": {},
     "outputs": [
      {
       "output_type": "stream",
       "stream": "stdout",
       "text": [
        "(677, 17)\n"
       ]
      }
     ],
     "prompt_number": 366
    },
    {
     "cell_type": "code",
     "collapsed": false,
     "input": [
      "header = list(cleaned_df.columns.values)\n",
      "header.remove('num')\n",
      "X = cleaned_df[header]\n",
      "y = cleaned_df['num']\n",
      "\n",
      "X_training, X_testing, y_training, y_testing = train_test_split(\n",
      "     X, y, test_size=0.33)"
     ],
     "language": "python",
     "metadata": {},
     "outputs": [],
     "prompt_number": 367
    },
    {
     "cell_type": "code",
     "collapsed": false,
     "input": [
      "# Baseline Accuracy\n",
      "positive = [i for i in y if i == 1]\n",
      "negtive = [i for i in y if i == 0]\n",
      "\n",
      "all_negative_accuracy = float(len(negtive))/float(len(y))\n",
      "print 'Guessing all negative: %.3f' % all_negative_accuracy"
     ],
     "language": "python",
     "metadata": {},
     "outputs": [
      {
       "output_type": "stream",
       "stream": "stdout",
       "text": [
        "Guessing all negative: 0.520\n"
       ]
      }
     ],
     "prompt_number": 400
    },
    {
     "cell_type": "code",
     "collapsed": false,
     "input": [
      "log_accuracy = []\n",
      "\n",
      "for k in range(1, 101):\n",
      "    C = .01 * k\n",
      "    log_model = LogisticRegression(penalty='l1', C=C)\n",
      "    log_model.fit(X_training, y_training) \n",
      "    y_pred = log_model.predict(X_testing)\n",
      "    y_true = y_testing\n",
      "    log_accuracy.append(accuracy_score(y_true, y_pred))\n",
      "\n",
      "plt.plot(range(1, 101), log_accuracy)\n",
      "print \"Accuracy: %.3f\" % (max(log_accuracy))\n",
      "print \"C: \", [i+1 for i, j in enumerate(log_accuracy) if j == max(log_accuracy)]"
     ],
     "language": "python",
     "metadata": {},
     "outputs": [
      {
       "output_type": "stream",
       "stream": "stdout",
       "text": [
        "Accuracy: 0.826\n",
        "C:  [13, 14]\n"
       ]
      },
      {
       "metadata": {},
       "output_type": "display_data",
       "png": "[encoded data removed]",
       "text": [
        "<matplotlib.figure.Figure at 0x117a90b10>"
       ]
      }
     ],
     "prompt_number": 386
    },
    {
     "cell_type": "code",
     "collapsed": false,
     "input": [
      "C = (log_accuracy.index(max(log_accuracy)) + 1) * .01\n",
      "logistic_model = LogisticRegression(penalty='l1', C=C)"
     ],
     "language": "python",
     "metadata": {},
     "outputs": [],
     "prompt_number": 369
    },
    {
     "cell_type": "code",
     "collapsed": false,
     "input": [
      "logistic_model.fit(X_training, y_training)"
     ],
     "language": "python",
     "metadata": {},
     "outputs": [
      {
       "metadata": {},
       "output_type": "pyout",
       "prompt_number": 370,
       "text": [
        "LogisticRegression(C=0.13, class_weight=None, dual=False, fit_intercept=True,\n",
        "          intercept_scaling=1, penalty='l1', random_state=None, tol=0.0001)"
       ]
      }
     ],
     "prompt_number": 370
    },
    {
     "cell_type": "code",
     "collapsed": false,
     "input": [
      "y_pred = logistic_model.predict(X_testing)\n",
      "y_true = y_testing\n",
      "print \"Accuracy: %.3f\" % accuracy_score(y_true, y_pred)\n"
     ],
     "language": "python",
     "metadata": {},
     "outputs": [
      {
       "output_type": "stream",
       "stream": "stdout",
       "text": [
        "Accuracy: 0.826\n",
        "<bound method LogisticRegression.predict_proba of LogisticRegression(C=0.13, class_weight=None, dual=False, fit_intercept=True,\n",
        "          intercept_scaling=1, penalty='l1', random_state=None, tol=0.0001)>\n"
       ]
      }
     ],
     "prompt_number": 403
    },
    {
     "cell_type": "code",
     "collapsed": false,
     "input": [
      "logistic_scores = cross_val_score(logistic_model, X, y, cv=5)\n",
      "print(\"Logistic Accuracy: %0.3f (+/- %0.3f)\" % (logistic_scores.mean(), logistic_scores.std() * 2))"
     ],
     "language": "python",
     "metadata": {},
     "outputs": [
      {
       "output_type": "stream",
       "stream": "stdout",
       "text": [
        "Logistic Accuracy: 0.793 (+/- 0.038)\n"
       ]
      }
     ],
     "prompt_number": 388
    },
    {
     "cell_type": "code",
     "collapsed": false,
     "input": [
      "knn_accuracy = []\n",
      "max_k = cleaned_df.shape[1]\n",
      "#print max_k\n",
      "\n",
      "for k in range(1, max_k):\n",
      "    neigh = KNeighborsClassifier(n_neighbors=k)\n",
      "    neigh.fit(X_training, y_training) \n",
      "    y_pred = neigh.predict(X_testing)\n",
      "    y_true = y_testing\n",
      "    knn_accuracy.append(accuracy_score(y_true, y_pred))\n",
      "\n",
      "plt.plot(range(1, max_k), knn_accuracy)\n",
      "print \"Accuracy: %0.3f\" % (max(knn_accuracy))\n",
      "print \"K: \", [i+1 for i, j in enumerate(knn_accuracy) if j == max(knn_accuracy)]\n",
      "\n"
     ],
     "language": "python",
     "metadata": {},
     "outputs": [
      {
       "output_type": "stream",
       "stream": "stdout",
       "text": [
        "Accuracy: 0.647\n",
        "K:  [10]\n"
       ]
      },
      {
       "metadata": {},
       "output_type": "display_data",
       "png": "[encoded data removed]",
       "text": [
        "<matplotlib.figure.Figure at 0x117cd53d0>"
       ]
      }
     ],
     "prompt_number": 391
    },
    {
     "cell_type": "code",
     "collapsed": false,
     "input": [
      "k = knn_accuracy.index(max(knn_accuracy))+1\n",
      "knn_model = KNeighborsClassifier(k)\n",
      "knn_model.fit(X_training, y_training)\n",
      "knn_scores = cross_val_score(knn_model, X, y, cv=5)\n",
      "print(\"KNN Accuracy: %0.3f (+/- %0.3f)\" % (knn_scores.mean(), knn_scores.std() * 2))"
     ],
     "language": "python",
     "metadata": {},
     "outputs": [
      {
       "output_type": "stream",
       "stream": "stdout",
       "text": [
        "KNN Accuracy: 0.586 (+/- 0.048)\n"
       ]
      }
     ],
     "prompt_number": 392
    },
    {
     "cell_type": "code",
     "collapsed": false,
     "input": [
      "coef_map = zip(logistic_model.coef_.tolist()[0],header)\n",
      "coef_map.sort()\n",
      "print len(coef_map)\n",
      "for i, j in coef_map:\n",
      "    print j, \": \", i"
     ],
     "language": "python",
     "metadata": {},
     "outputs": [
      {
       "output_type": "stream",
       "stream": "stdout",
       "text": [
        "16\n",
        "rest_blood_pressure :  -0.0180286001911\n",
        "max_heart_rate :  -0.0160044037666\n",
        "resting_heart_rate :  -0.0101449943055\n",
        "peak_exercise_height :  -0.000226599670887\n",
        "mets_achieved :  0.0\n",
        "resting_blood_pressure :  0.000966701240073\n",
        "cholesterol :  0.00153169834655\n",
        "peak_blood_pressure :  0.00491525459451\n",
        "age :  0.0221661495436\n",
        "flat_st_slope :  0.0841568449199\n",
        "thal_reversable_defect :  0.324690461718\n",
        "lvx4 :  0.359554257961\n",
        "st_depression :  0.508086594103\n",
        "exercise_induced_angina :  0.709241025251\n",
        "asymptomatic_chest_pain :  0.729011385006\n",
        "sex :  0.960885694757\n"
       ]
      }
     ],
     "prompt_number": 378
    }
   ],
   "metadata": {}
  }
 ]
}