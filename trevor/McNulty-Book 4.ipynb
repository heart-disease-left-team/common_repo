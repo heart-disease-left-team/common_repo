{
 "metadata": {
  "name": "",
  "signature": "sha256:710d842327783b04ca99580b8afe385601af1fb472e3480d8bb6c81348930f7f"
 },
 "nbformat": 3,
 "nbformat_minor": 0,
 "worksheets": [
  {
   "cells": [
    {
     "cell_type": "code",
     "collapsed": false,
     "input": [
      "%matplotlib inline\n",
      "import pymysql\n",
      "import pandas as pd\n",
      "import numpy as np\n",
      "import matplotlib.pyplot as plt\n",
      "import operator\n",
      "from sklearn.neighbors import KNeighborsClassifier\n",
      "from sklearn.linear_model import LogisticRegression\n",
      "from sklearn.naive_bayes import GaussianNB\n",
      "from sklearn.svm import SVC\n",
      "from sklearn.svm import LinearSVC\n",
      "from sklearn.tree import DecisionTreeClassifier\n",
      "from sklearn.ensemble import RandomForestClassifier\n",
      "from sklearn.cross_validation import train_test_split\n",
      "from sklearn.cross_validation import cross_val_score\n",
      "from sklearn.metrics import accuracy_score\n",
      "from sklearn.metrics import precision_recall_curve\n",
      "from sklearn.metrics import roc_curve\n",
      "from sklearn.metrics import auc\n",
      "from sklearn import preprocessing\n",
      "\n",
      "# function definitions\n",
      "def generic_cross_validation(model, X, y):\n",
      "    \"\"\" Function that returns a dictionary of accuracy, precision, recall, and f1 scores.  \n",
      "    Means and Standard Deviations are returned \"\"\"\n",
      "    accuracy_scores = cross_val_score(model, X, y, cv=5)\n",
      "    precision_scores = cross_val_score(model, X, y, cv=5, scoring='precision')\n",
      "    recall_scores = cross_val_score(model, X, y, cv=5, scoring='recall')\n",
      "    f1_scores = cross_val_score(model, X, y, cv=5, scoring='f1')\n",
      "    \n",
      "    return_dict = {\n",
      "        'mean': {\n",
      "            'accuracy': np.mean(accuracy_scores),\n",
      "            'precision': np.mean(precision_scores),\n",
      "            'recall': np.mean(recall_scores),\n",
      "            'f1': np.mean(f1_scores)\n",
      "        },\n",
      "        'std': {\n",
      "            'accuracy': np.std(accuracy_scores),\n",
      "            'precision': np.std(precision_scores),\n",
      "            'recall': np.std(recall_scores),\n",
      "            'f1': np.std(f1_scores)\n",
      "        }\n",
      "    }\n",
      "    return return_dict"
     ],
     "language": "python",
     "metadata": {},
     "outputs": [],
     "prompt_number": 1723
    },
    {
     "cell_type": "code",
     "collapsed": false,
     "input": [
      "# connec to mysql server\n",
      "db = pymysql.connect(host=\"104.131.118.159\",  #your cloud ip\n",
      "                     user='root',\n",
      "                     passwd='leftyheart',\n",
      "                     db='heart_disease')\n",
      "\n",
      "cursor = db.cursor(pymysql.cursors.DictCursor)\n",
      "\n",
      "# populate Data Frame\n",
      "cursor.execute(\"\"\"\n",
      "select         \n",
      "--             id      \n",
      "--            ,ccf            \n",
      "            age            \n",
      "/*            ,case\n",
      "                when sex = 1\n",
      "                then 'male'\n",
      "                when sex = 0\n",
      "                then 'female'\n",
      "            end as sex       */\n",
      "            ,sex as male\n",
      "/*            ,case             \n",
      "                when painloc = 1            \n",
      "                then 'substernal_chest_pain'            \n",
      "                when painloc = 0\n",
      "                then 'other_chest_pain'            \n",
      "            end as painloc        */    \n",
      "/*            ,case             \n",
      "                when painexer = 1            \n",
      "--                then 'painexer_provoked_by_exertion'            \n",
      "--                when painexer = 0\n",
      "--                then 'painexer_otherwise'            \n",
      "                then 1\n",
      "                else 0\n",
      "--            end as painexer  \n",
      "            end as pain_provoked_by_exertion    */\n",
      "/*            ,case             \n",
      "                when relrest = 1\n",
      "--                then 'relrest_relieved_after_rest'            \n",
      "--                else 'relrest_otherwise'            \n",
      "--                when relrest = 0\n",
      "                then 1\n",
      "                else 0            \n",
      "--            end as relrest             \n",
      "            end as pain_relived_after_rest        */\n",
      "--            ,pncade          \n",
      "            ,case             \n",
      "                when cp = 1            \n",
      "                then 'typical_anginal_chest_pain'            \n",
      "                when cp = 2            \n",
      "                then 'atypical_anginal_chest_pain'            \n",
      "                when cp = 3            \n",
      "                then 'non-anginal_chest_pain'            \n",
      "                when cp = 4            \n",
      "                then 'asymptomatic_chest_pain'            \n",
      "--                then 1\n",
      "--                else 0\n",
      "            end as cp            \n",
      "--            end as asymptomatic_chest_pain\n",
      "            ,trestbps as resting_blood_pressure            \n",
      "--            ,htn as hypertension            \n",
      "            ,chol as cholesterol           \n",
      "            ,smoke as smoker            \n",
      "            ,cigs as num_cigs_per_day           \n",
      "            ,years as years_as_smoker           \n",
      "--            ,fbs as fasting_blood_sugar           \n",
      "            ,dm as fam_hist_diabetes            \n",
      "            ,famhist as fam_hist_heart_disease           \n",
      "            ,case             \n",
      "                when restecg = 0            \n",
      "                then 'restecg_normal'            \n",
      "                when restecg = 1            \n",
      "                then 'restecg_st-t_wave_abnormality'            \n",
      "                when restecg = 2            \n",
      "                then 'restecg_left_ventricular_hypertrophy'            \n",
      "            end as restecg            \n",
      "--            ,ekgmo            \n",
      "--            ,ekgday            \n",
      "--            ,ekgyr            \n",
      "--            ,dig            \n",
      "--            ,prop            \n",
      "--            ,nitr            \n",
      "--            ,pro            \n",
      "--            ,diuretic            \n",
      "/*            ,case            \n",
      "                when proto = 1            \n",
      "                then 'proto_bruce'            \n",
      "                when proto = 2            \n",
      "                then 'proto_kottus'            \n",
      "                when proto = 3            \n",
      "                then 'proto_mchenry'            \n",
      "                when proto = 4            \n",
      "                then 'proto_fast_balke'            \n",
      "                when proto = 5            \n",
      "                then 'proto_balke'            \n",
      "                when proto = 6            \n",
      "                then 'proto_noughton'            \n",
      "                when proto = 7            \n",
      "                then 'proto_bike_150'            \n",
      "                when proto = 8            \n",
      "                then 'proto_bike_125'            \n",
      "                when proto = 9            \n",
      "                then 'proto_bike_100'            \n",
      "                when proto = 10            \n",
      "                then 'proto_bike_75'            \n",
      "                when proto = 11            \n",
      "                then 'proto_bike_50'            \n",
      "                when proto = 12            \n",
      "                then 'proto_arm_ergometer'            \n",
      "            end as proto         */   \n",
      "--            ,thaldur as exercise_test_duration           \n",
      "            ,thaltime as st_measure_recording_time           \n",
      "--            ,met as metabolic_equivalent_achieved            \n",
      "            ,thalach as max_heart_rate           \n",
      "--            ,thalrest as resting_heart_rate            \n",
      "--            ,tpeakbps as peak_diastolic_blood_pressure            \n",
      "--            ,tpeakbpd as peak_systolic_blood_pressure          \n",
      "--            ,dummy            \n",
      "--            ,trestbpd as rest_blood_pressure           \n",
      "            ,exang as exercise_induced_angina           \n",
      "--            ,xhypo as x_hypoglycemia          \n",
      "            ,oldpeak as st_depression           \n",
      "            ,case            \n",
      "                when slope = 1            \n",
      "--                then 'slope_upsloping'            \n",
      "--                when slope = 2            \n",
      "--                then 'slope_flat'    \n",
      "                then 1\n",
      "                else 0\n",
      "--                when slope = 3            \n",
      "--                then 'slope_downsloping'            \n",
      "--            end as slope   \n",
      "            end as normal_st_slope          \n",
      "            ,rldv5 rest_height           \n",
      "--            ,rldv5e as peak_exercise_height      \n",
      "--            ,ca            \n",
      "            ,restckm as creatine_kinase_rest            \n",
      "            ,exerckm as creatine_kinase_excercise           \n",
      "            ,restef as rest_ejection_fraction           \n",
      "            ,case            \n",
      "--                when restwm = 0            \n",
      "--                then 'rest_motion_abnormality_none'            \n",
      "--                when restwm = 1            \n",
      "--                then 'rest_motion_abnormality_mild_moderate'            \n",
      "                when restwm = 2            \n",
      "--                then 'rest_motion_abnormality_moderate_severe'            \n",
      "                then 1\n",
      "                else 0\n",
      "--                when restwm = 3            \n",
      "--                then 'rest_motion_abnormality_akinesis_dyskmem'            \n",
      "--            end as restwm    \n",
      "            end as severe_rest_motion_abnormality\n",
      "            ,exeref as exercise_ejection_fraction            \n",
      "            ,exerwm as exercise_motion_abnormality        \n",
      "            ,case             \n",
      "                when thal = 3            \n",
      "--                then 'thalassemia_normal'            \n",
      "--                when thal = 6            \n",
      "--                then 'thalassemia_fixed_defect'            \n",
      "--                when thal = 7            \n",
      "--                then 'thalassemia_reversable_defect'            \n",
      "                then 0\n",
      "                else 1\n",
      "--            end as thal\n",
      "            end as 'thalassemia'    \n",
      "            ,thalsev as thalassemia_sev          \n",
      "            ,thalpul as thalassemia_pul              \n",
      "--            ,earlobe            \n",
      "--            ,cmo            \n",
      "--            ,cday            \n",
      "--            ,cyr            \n",
      "            ,case\n",
      "                when num = 0\n",
      "                then 0\n",
      "                else 1\n",
      "            end as num\n",
      "--            ,lmt as left_main_trunk           \n",
      "--            ,ladprox as proximal_left_anterior_descending_artery       \n",
      "--            ,laddist as distal_left_anterior_descending_artery        \n",
      "--            ,diag            \n",
      "--            ,cxmain as main_circumflex_artery            \n",
      "--            ,ramus            \n",
      "--            ,om1            \n",
      "--            ,om2            \n",
      "--            ,rcaprox as proximal_right_coronary_artery   \n",
      "--            ,rcadist            \n",
      "--            ,lvx1            \n",
      "--            ,lvx2            \n",
      "--            ,lvx3            \n",
      "--            ,lvx4            \n",
      "--            ,lvf            \n",
      "--            ,cathef            \n",
      "--            ,junk            \n",
      "--            ,name            \n",
      "--            ,hospital            \n",
      "            \n",
      "from         heart_disease.all_data\n",
      "\n",
      "-- where        hospital = 'cleveland'\n",
      "\"\"\")\n",
      "\n",
      "data = list(cursor.fetchall()) \n",
      "df = pd.DataFrame(data)\n",
      "# close connection to mysql    \n",
      "cursor.close()\n",
      "db.close()\n",
      "\n",
      "# convert categorical fields to dummys \n",
      "#sex_dummies = pd.get_dummies(df['sex'])\n",
      "#painloc_dummies = pd.get_dummies(df['painloc'])\n",
      "#painexer_dummies = pd.get_dummies(df['painexer'])\n",
      "#relrest_dummies = pd.get_dummies(df['relrest'])\n",
      "restecg_dummies = pd.get_dummies(df['restecg'])\n",
      "cp_dummies = pd.get_dummies(df['cp'])\n",
      "#proto_dummies = pd.get_dummies(df['proto'])\n",
      "#slope_dummies = pd.get_dummies(df['slope'])\n",
      "#restwm_dummies = pd.get_dummies(df['restwm'])\n",
      "#thal_dummies = pd.get_dummies(df['thal'])\n",
      "#hospital_dummies = pd.get_dummies(df['hospital'])\n",
      "\n",
      "\n",
      "\n",
      "# add dummies to dat frame\n",
      "df = pd.concat([\n",
      "                df\n",
      "#                ,sex_dummies\n",
      "#                ,painloc_dummies\n",
      "#                , painexer_dummies\n",
      "#                , relrest_dummies\n",
      "                , cp_dummies\n",
      "#                , proto_dummies\n",
      "#                , slope_dummies\n",
      "#                , restwm_dummies\n",
      "#                , thal_dummies\n",
      "#                , hospital_dummies\n",
      "                ]\n",
      "               , axis=1)\n",
      "\n",
      "#del df['sex']\n",
      "#del df['painloc']\n",
      "#del df['painexer']\n",
      "#del df['relrest']\n",
      "del df['restecg']\n",
      "del df['cp']\n",
      "#del df['proto']\n",
      "#del df['slope']\n",
      "#del df['restwm']\n",
      "#del df['thal']\n",
      "#del df['hospital']\n",
      "\n",
      "#df.fillna(0, inplace=True)\n",
      "\n",
      "for i in zip(list(df.columns.values),list(len(df.index)-df.count(axis=0))):\n",
      "    if i[1] > 400 :\n",
      "        del df[i[0]]\n",
      "\n",
      "cleaned_df = df.dropna(how='any')\n",
      "\n",
      "print cleaned_df.shape\n",
      "#cleaned_df"
     ],
     "language": "python",
     "metadata": {},
     "outputs": [
      {
       "output_type": "stream",
       "stream": "stdout",
       "text": [
        "(806, 15)\n"
       ]
      }
     ],
     "prompt_number": 1724
    },
    {
     "cell_type": "code",
     "collapsed": false,
     "input": [
      "header = list(cleaned_df.columns.values)\n",
      "header.remove('num')\n",
      "X = preprocessing.scale(cleaned_df[header])\n",
      "y = cleaned_df['num']\n",
      "\n",
      "X_training, X_testing, y_training, y_testing = train_test_split(\n",
      "     X, y, test_size=0.33)\n",
      "\n",
      "auc_dict = {}"
     ],
     "language": "python",
     "metadata": {},
     "outputs": [],
     "prompt_number": 1725
    },
    {
     "cell_type": "code",
     "collapsed": false,
     "input": [
      "# Baseline Accuracy\n",
      "positive = [i for i in y if i == 1]\n",
      "negtive = [i for i in y if i == 0]\n",
      "\n",
      "all_negative_accuracy = float(len(negtive))/float(len(y))\n",
      "print 'Guessing all negative: %.3f' % all_negative_accuracy"
     ],
     "language": "python",
     "metadata": {},
     "outputs": [
      {
       "output_type": "stream",
       "stream": "stdout",
       "text": [
        "Guessing all negative: 0.452\n"
       ]
      }
     ],
     "prompt_number": 1726
    },
    {
     "cell_type": "code",
     "collapsed": false,
     "input": [
      "log_accuracy = []\n",
      "\n",
      "for k in range(1, 101):\n",
      "    C = .01 * k\n",
      "    log_model = LogisticRegression(penalty='l1', C=C)\n",
      "    log_model.fit(X_training, y_training) \n",
      "    y_pred = log_model.predict(X_testing)\n",
      "    y_true = y_testing\n",
      "    log_accuracy.append(accuracy_score(y_true, y_pred))\n",
      "\n",
      "plt.plot(range(1, 101), log_accuracy)\n",
      "print \"Accuracy: %.3f\" % (max(log_accuracy))\n",
      "print \"C: \", [i+1 for i, j in enumerate(log_accuracy) if j == max(log_accuracy)]"
     ],
     "language": "python",
     "metadata": {},
     "outputs": [
      {
       "output_type": "stream",
       "stream": "stdout",
       "text": [
        "Accuracy: 0.842\n",
        "C:  [14, 15]\n"
       ]
      },
      {
       "metadata": {},
       "output_type": "display_data",
       "png": "[encoded data removed]",
       "text": [
        "<matplotlib.figure.Figure at 0x119f8eb10>"
       ]
      }
     ],
     "prompt_number": 1727
    },
    {
     "cell_type": "code",
     "collapsed": false,
     "input": [
      "C = (log_accuracy.index(max(log_accuracy)) + 1) * .01\n",
      "logistic_model = LogisticRegression(penalty='l1', C=C)"
     ],
     "language": "python",
     "metadata": {},
     "outputs": [],
     "prompt_number": 1728
    },
    {
     "cell_type": "code",
     "collapsed": false,
     "input": [
      "log_cross_val = generic_cross_validation(logistic_model, X, y)\n",
      "\n",
      "print \"Logistic Cross Validation:\"\n",
      "print \" -- Accuracy: %0.3f (+/- %0.3f)\" % (log_cross_val['mean']['accuracy'], \n",
      "                                           log_cross_val['std']['accuracy'])\n",
      "print \" -- Precision: %0.3f (+/- %0.3f)\" % (log_cross_val['mean']['precision'], \n",
      "                                           log_cross_val['std']['precision'])\n",
      "print \" -- Recall: %0.3f (+/- %0.3f)\" % (log_cross_val['mean']['recall'], \n",
      "                                           log_cross_val['std']['recall'])\n",
      "print \" -- F1: %0.3f (+/- %0.3f)\" % (log_cross_val['mean']['f1'], \n",
      "                                           log_cross_val['std']['f1'])"
     ],
     "language": "python",
     "metadata": {},
     "outputs": [
      {
       "output_type": "stream",
       "stream": "stdout",
       "text": [
        "Logistic Cross Validation:\n",
        " -- Accuracy: 0.774 (+/- 0.079)\n",
        " -- Precision: 0.819 (+/- 0.083)\n",
        " -- Recall: 0.770 (+/- 0.104)\n",
        " -- F1: 0.788 (+/- 0.072)\n"
       ]
      }
     ],
     "prompt_number": 1729
    },
    {
     "cell_type": "code",
     "collapsed": false,
     "input": [
      "logistic_probas = logistic_model.fit(X_training, y_training).decision_function(X_testing)\n",
      "logistic_fpr, logistic_tpr, logistic_thresholds = roc_curve(y_true, logistic_probas, pos_label=1)\n",
      "logistic_auc = auc(logistic_fpr, logistic_tpr)\n",
      "auc_dict['logistic_regression'] = logistic_auc\n",
      "print \"AUC: %.3f\" % logistic_auc"
     ],
     "language": "python",
     "metadata": {},
     "outputs": [
      {
       "output_type": "stream",
       "stream": "stdout",
       "text": [
        "AUC: 0.888\n"
       ]
      }
     ],
     "prompt_number": 1730
    },
    {
     "cell_type": "code",
     "collapsed": false,
     "input": [
      "coef_map = zip(logistic_model.coef_.tolist()[0],header)\n",
      "coef_map.sort()\n",
      "print len(coef_map)\n",
      "for i, j in coef_map:\n",
      "    print j, \": \", i"
     ],
     "language": "python",
     "metadata": {},
     "outputs": [
      {
       "output_type": "stream",
       "stream": "stdout",
       "text": [
        "14\n",
        "cholesterol :  -0.446922160033\n",
        "atypical_anginal_chest_pain :  -0.309761640679\n",
        "normal_st_slope :  -0.197854523783\n",
        "max_heart_rate :  -0.114206081186\n",
        "non-anginal_chest_pain :  0.0\n",
        "typical_anginal_chest_pain :  0.0\n",
        "severe_rest_motion_abnormality :  0.031132547228\n",
        "resting_blood_pressure :  0.0475133066295\n",
        "age :  0.182420874498\n",
        "thalassemia :  0.21649843316\n",
        "male :  0.36885685033\n",
        "st_depression :  0.398540137153\n",
        "exercise_induced_angina :  0.482904238218\n",
        "asymptomatic_chest_pain :  0.538560504061\n"
       ]
      }
     ],
     "prompt_number": 1731
    },
    {
     "cell_type": "code",
     "collapsed": false,
     "input": [
      "knn_accuracy = []\n",
      "max_k = cleaned_df.shape[1]\n",
      "#print max_k\n",
      "\n",
      "for k in range(1, max_k):\n",
      "    neigh = KNeighborsClassifier(n_neighbors=k)\n",
      "    neigh.fit(X_training, y_training) \n",
      "    y_pred = neigh.predict(X_testing)\n",
      "    y_true = y_testing\n",
      "    knn_accuracy.append(accuracy_score(y_true, y_pred))\n",
      "\n",
      "plt.plot(range(1, max_k), knn_accuracy)\n",
      "print \"KNN Accuracy: %0.3f\" % (max(knn_accuracy))\n",
      "print \"K: \", [i+1 for i, j in enumerate(knn_accuracy) if j == max(knn_accuracy)]"
     ],
     "language": "python",
     "metadata": {},
     "outputs": [
      {
       "output_type": "stream",
       "stream": "stdout",
       "text": [
        "KNN Accuracy: 0.831\n",
        "K:  [10, 13]\n"
       ]
      },
      {
       "metadata": {},
       "output_type": "display_data",
       "png": "[encoded data removed]",
       "text": [
        "<matplotlib.figure.Figure at 0x1198e1b50>"
       ]
      }
     ],
     "prompt_number": 1732
    },
    {
     "cell_type": "code",
     "collapsed": false,
     "input": [
      "k = knn_accuracy.index(max(knn_accuracy))+1\n",
      "knn_model = KNeighborsClassifier(k)"
     ],
     "language": "python",
     "metadata": {},
     "outputs": [],
     "prompt_number": 1733
    },
    {
     "cell_type": "code",
     "collapsed": false,
     "input": [
      "knn_cross_val = generic_cross_validation(knn_model, X, y)\n",
      "\n",
      "print \"KNN Validation:\"\n",
      "print \" -- Accuracy: %0.3f (+/- %0.3f)\" % (knn_cross_val['mean']['accuracy'], \n",
      "                                           knn_cross_val['std']['accuracy'])\n",
      "print \" -- Precision: %0.3f (+/- %0.3f)\" % (knn_cross_val['mean']['precision'], \n",
      "                                           knn_cross_val['std']['precision'])\n",
      "print \" -- Recall: %0.3f (+/- %0.3f)\" % (knn_cross_val['mean']['recall'], \n",
      "                                           knn_cross_val['std']['recall'])\n",
      "print \" -- F1: %0.3f (+/- %0.3f)\" % (knn_cross_val['mean']['f1'], \n",
      "                                           knn_cross_val['std']['f1'])"
     ],
     "language": "python",
     "metadata": {},
     "outputs": [
      {
       "output_type": "stream",
       "stream": "stdout",
       "text": [
        "KNN Validation:\n",
        " -- Accuracy: 0.794 (+/- 0.034)\n",
        " -- Precision: 0.856 (+/- 0.066)\n",
        " -- Recall: 0.767 (+/- 0.101)\n",
        " -- F1: 0.801 (+/- 0.041)\n"
       ]
      }
     ],
     "prompt_number": 1734
    },
    {
     "cell_type": "code",
     "collapsed": false,
     "input": [
      "knn_probas = knn_model.fit(X_training, y_training).predict_proba(X_testing)\n",
      "knn_fpr, knn_tpr, knn_thresholds = roc_curve(y_true, knn_probas[:, 1], pos_label=1)\n",
      "knn_auc = auc(knn_fpr, knn_tpr)\n",
      "auc_dict['knn'] = knn_auc\n",
      "print \"AUC: %.3f\" % knn_auc"
     ],
     "language": "python",
     "metadata": {},
     "outputs": [
      {
       "output_type": "stream",
       "stream": "stdout",
       "text": [
        "AUC: 0.887\n"
       ]
      }
     ],
     "prompt_number": 1735
    },
    {
     "cell_type": "code",
     "collapsed": false,
     "input": [
      "# explore the gaussian model\n",
      "gauss_model = GaussianNB()"
     ],
     "language": "python",
     "metadata": {},
     "outputs": [],
     "prompt_number": 1736
    },
    {
     "cell_type": "code",
     "collapsed": false,
     "input": [
      "gauss_cross_val = generic_cross_validation(gauss_model, X, y)\n",
      "\n",
      "print \"Gaussian Naive Bayes Cross Validation:\"\n",
      "print \" -- Accuracy: %0.3f (+/- %0.3f)\" % (gauss_cross_val['mean']['accuracy'], \n",
      "                                           gauss_cross_val['std']['accuracy'])\n",
      "print \" -- Precision: %0.3f (+/- %0.3f)\" % (gauss_cross_val['mean']['precision'], \n",
      "                                           gauss_cross_val['std']['precision'])\n",
      "print \" -- Recall: %0.3f (+/- %0.3f)\" % (gauss_cross_val['mean']['recall'], \n",
      "                                           gauss_cross_val['std']['recall'])\n",
      "print \" -- F1: %0.3f (+/- %0.3f)\" % (gauss_cross_val['mean']['f1'], \n",
      "                                           gauss_cross_val['std']['f1'])"
     ],
     "language": "python",
     "metadata": {},
     "outputs": [
      {
       "output_type": "stream",
       "stream": "stdout",
       "text": [
        "Gaussian Naive Bayes Cross Validation:\n",
        " -- Accuracy: 0.570 (+/- 0.085)\n",
        " -- Precision: 0.957 (+/- 0.060)\n",
        " -- Recall: 0.240 (+/- 0.199)\n",
        " -- F1: 0.342 (+/- 0.196)\n"
       ]
      }
     ],
     "prompt_number": 1737
    },
    {
     "cell_type": "code",
     "collapsed": false,
     "input": [
      "gauss_probas = gauss_model.fit(X_training, y_training).predict_proba(X_testing)\n",
      "gauss_fpr, gauss_tpr, gauss_thresholds = roc_curve(y_true, gauss_probas[:, 1], pos_label=1)\n",
      "gauss_auc = auc(gauss_fpr, gauss_tpr)\n",
      "auc_dict['gauss'] = gauss_auc\n",
      "print \"AUC: %.3f\" % gauss_auc"
     ],
     "language": "python",
     "metadata": {},
     "outputs": [
      {
       "output_type": "stream",
       "stream": "stdout",
       "text": [
        "AUC: 0.879\n"
       ]
      }
     ],
     "prompt_number": 1738
    },
    {
     "cell_type": "code",
     "collapsed": false,
     "input": [
      "# explore the SVC model\n",
      "svc_accuracy = []\n",
      "\n",
      "for k in range(1, 101):\n",
      "    c = .01 * k\n",
      "    svc_model = SVC(C=c)\n",
      "    svc_model.fit(X_training, y_training) \n",
      "    y_pred = svc_model.predict(X_testing)\n",
      "    y_true = y_testing\n",
      "    svc_accuracy.append(accuracy_score(y_true, y_pred))\n",
      "\n",
      "plt.plot(range(1, 101), svc_accuracy)\n",
      "print \"Accuracy: %.3f\" % (max(svc_accuracy))\n",
      "print \"C: \", [i+1 for i, j in enumerate(svc_accuracy) if j == max(svc_accuracy)]"
     ],
     "language": "python",
     "metadata": {},
     "outputs": [
      {
       "output_type": "stream",
       "stream": "stdout",
       "text": [
        "Accuracy: 0.857\n",
        "C:  [74, 75, 76, 77, 78, 79, 80]\n"
       ]
      },
      {
       "metadata": {},
       "output_type": "display_data",
       "png": "[encoded data removed]",
       "text": [
        "<matplotlib.figure.Figure at 0x11a3701d0>"
       ]
      }
     ],
     "prompt_number": 1739
    },
    {
     "cell_type": "code",
     "collapsed": false,
     "input": [
      "c = (svc_accuracy.index(max(svc_accuracy)) + 1) * .01\n",
      "svc_model = SVC(C=c)"
     ],
     "language": "python",
     "metadata": {},
     "outputs": [],
     "prompt_number": 1740
    },
    {
     "cell_type": "code",
     "collapsed": false,
     "input": [
      "svc_model"
     ],
     "language": "python",
     "metadata": {},
     "outputs": [
      {
       "metadata": {},
       "output_type": "pyout",
       "prompt_number": 1741,
       "text": [
        "SVC(C=0.74, cache_size=200, class_weight=None, coef0=0.0, degree=3, gamma=0.0,\n",
        "  kernel='rbf', max_iter=-1, probability=False, random_state=None,\n",
        "  shrinking=True, tol=0.001, verbose=False)"
       ]
      }
     ],
     "prompt_number": 1741
    },
    {
     "cell_type": "code",
     "collapsed": false,
     "input": [
      "svc_cross_val = generic_cross_validation(svc_model, X, y)\n",
      "\n",
      "print \"SVC Cross Validation:\"\n",
      "print \" -- Accuracy: %0.3f (+/- %0.3f)\" % (svc_cross_val['mean']['accuracy'], \n",
      "                                           svc_cross_val['std']['accuracy'])\n",
      "print \" -- Precision: %0.3f (+/- %0.3f)\" % (svc_cross_val['mean']['precision'], \n",
      "                                           svc_cross_val['std']['precision'])\n",
      "print \" -- Recall: %0.3f (+/- %0.3f)\" % (svc_cross_val['mean']['recall'], \n",
      "                                           svc_cross_val['std']['recall'])\n",
      "print \" -- F1: %0.3f (+/- %0.3f)\" % (svc_cross_val['mean']['f1'], \n",
      "                                           svc_cross_val['std']['f1'])"
     ],
     "language": "python",
     "metadata": {},
     "outputs": [
      {
       "output_type": "stream",
       "stream": "stdout",
       "text": [
        "SVC Cross Validation:\n",
        " -- Accuracy: 0.801 (+/- 0.062)\n",
        " -- Precision: 0.817 (+/- 0.070)\n",
        " -- Recall: 0.835 (+/- 0.087)\n",
        " -- F1: 0.822 (+/- 0.054)\n"
       ]
      }
     ],
     "prompt_number": 1742
    },
    {
     "cell_type": "code",
     "collapsed": false,
     "input": [
      "svc_probas = svc_model.fit(X_training, y_training).decision_function(X_testing)\n",
      "svc_fpr, svc_tpr, svc_thresholds = roc_curve(y_true, svc_probas, pos_label=1)\n",
      "svc_auc = auc(svc_fpr, svc_tpr)\n",
      "auc_dict['svc'] = svc_auc\n",
      "print \"AUC: %.3f\" % svc_auc"
     ],
     "language": "python",
     "metadata": {},
     "outputs": [
      {
       "output_type": "stream",
       "stream": "stdout",
       "text": [
        "AUC: 0.895\n"
       ]
      }
     ],
     "prompt_number": 1743
    },
    {
     "cell_type": "code",
     "collapsed": false,
     "input": [
      "# explore the Decision Tree model\n",
      "decision_tree_model = DecisionTreeClassifier()"
     ],
     "language": "python",
     "metadata": {},
     "outputs": [],
     "prompt_number": 1744
    },
    {
     "cell_type": "code",
     "collapsed": false,
     "input": [
      "dt_cross_val = generic_cross_validation(decision_tree_model, X, y)\n",
      "\n",
      "print \"Decision Tree Cross Validation:\"\n",
      "print \" -- Accuracy: %0.3f (+/- %0.3f)\" % (dt_cross_val['mean']['accuracy'], \n",
      "                                           dt_cross_val['std']['accuracy'])\n",
      "print \" -- Precision: %0.3f (+/- %0.3f)\" % (dt_cross_val['mean']['precision'], \n",
      "                                           dt_cross_val['std']['precision'])\n",
      "print \" -- Recall: %0.3f (+/- %0.3f)\" % (dt_cross_val['mean']['recall'], \n",
      "                                           dt_cross_val['std']['recall'])\n",
      "print \" -- F1: %0.3f (+/- %0.3f)\" % (dt_cross_val['mean']['f1'], \n",
      "                                           dt_cross_val['std']['f1'])"
     ],
     "language": "python",
     "metadata": {},
     "outputs": [
      {
       "output_type": "stream",
       "stream": "stdout",
       "text": [
        "Decision Tree Cross Validation:\n",
        " -- Accuracy: 0.712 (+/- 0.046)\n",
        " -- Precision: 0.756 (+/- 0.060)\n",
        " -- Recall: 0.711 (+/- 0.080)\n",
        " -- F1: 0.697 (+/- 0.048)\n"
       ]
      }
     ],
     "prompt_number": 1745
    },
    {
     "cell_type": "code",
     "collapsed": false,
     "input": [
      "dt_probas = decision_tree_model.fit(X_training, y_training).predict_proba(X_testing)\n",
      "dt_fpr, dt_tpr, dt_thresholds = roc_curve(y_true, dt_probas[:,1], pos_label=1)\n",
      "dt_auc = auc(dt_fpr, dt_tpr)\n",
      "auc_dict['decision_tree'] = dt_auc\n",
      "print \"AUC: %.3f\" % dt_auc"
     ],
     "language": "python",
     "metadata": {},
     "outputs": [
      {
       "output_type": "stream",
       "stream": "stdout",
       "text": [
        "AUC: 0.705\n"
       ]
      }
     ],
     "prompt_number": 1746
    },
    {
     "cell_type": "code",
     "collapsed": false,
     "input": [
      "# explore the Random Forest model\n",
      "random_forest_model = RandomForestClassifier()"
     ],
     "language": "python",
     "metadata": {},
     "outputs": [],
     "prompt_number": 1747
    },
    {
     "cell_type": "code",
     "collapsed": false,
     "input": [
      "rf_cross_val = generic_cross_validation(random_forest_model, X, y)\n",
      "\n",
      "print \"Random Forest Cross Validation:\"\n",
      "print \" -- Accuracy: %0.3f (+/- %0.3f)\" % (rf_cross_val['mean']['accuracy'], \n",
      "                                           rf_cross_val['std']['accuracy'])\n",
      "print \" -- Precision: %0.3f (+/- %0.3f)\" % (rf_cross_val['mean']['precision'], \n",
      "                                           rf_cross_val['std']['precision'])\n",
      "print \" -- Recall: %0.3f (+/- %0.3f)\" % (rf_cross_val['mean']['recall'], \n",
      "                                           rf_cross_val['std']['recall'])\n",
      "print \" -- F1: %0.3f (+/- %0.3f)\" % (rf_cross_val['mean']['f1'], \n",
      "                                           rf_cross_val['std']['f1'])"
     ],
     "language": "python",
     "metadata": {},
     "outputs": [
      {
       "output_type": "stream",
       "stream": "stdout",
       "text": [
        "Random Forest Cross Validation:\n",
        " -- Accuracy: 0.761 (+/- 0.040)\n",
        " -- Precision: 0.827 (+/- 0.090)\n",
        " -- Recall: 0.756 (+/- 0.122)\n",
        " -- F1: 0.756 (+/- 0.055)\n"
       ]
      }
     ],
     "prompt_number": 1748
    },
    {
     "cell_type": "code",
     "collapsed": false,
     "input": [
      "rf_probas = random_forest_model.fit(X_training, y_training).predict_proba(X_testing)\n",
      "rf_fpr, rf_tpr, rf_thresholds = roc_curve(y_true, rf_probas[:,1], pos_label=1)\n",
      "rf_auc = auc(rf_fpr, rf_tpr)\n",
      "auc_dict['random_forest'] = rf_auc\n",
      "print \"AUC: %.3f\" % rf_auc"
     ],
     "language": "python",
     "metadata": {},
     "outputs": [
      {
       "output_type": "stream",
       "stream": "stdout",
       "text": [
        "AUC: 0.859\n"
       ]
      }
     ],
     "prompt_number": 1749
    },
    {
     "cell_type": "code",
     "collapsed": false,
     "input": [
      "plt.figure(figsize=[15,6])\n",
      "logistic_plot, = plt.plot(logistic_fpr, logistic_tpr, label='Logistic Regression')\n",
      "knn_plot, = plt.plot(knn_fpr, knn_tpr, label='KNN')\n",
      "gauss_plot, = plt.plot(gauss_fpr, gauss_tpr, label='Gaussian Naive Bayes')\n",
      "svc_plot, = plt.plot(svc_fpr, svc_tpr, label='SVC')\n",
      "dt_plot, = plt.plot(dt_fpr, dt_tpr, label='Decision Tree')\n",
      "rf_plot, = plt.plot(rf_fpr, rf_tpr, label='Random Forest')\n",
      "\n",
      "sortable_list = [(k, v) for k, v in auc_dict.iteritems()]\n",
      "sortable_list.sort(key=operator.itemgetter(1), reverse=True)\n",
      "\n",
      "for k, v in sortable_list:\n",
      "    print \"%20s: %0.3f\" % (k, v)\n",
      "\n",
      "plt.xlabel('FPR')\n",
      "plt.ylabel('TPR')\n",
      "plt.legend(handles=[logistic_plot, knn_plot, gauss_plot, svc_plot, dt_plot, rf_plot])\n",
      "plt.legend(bbox_to_anchor=(.75, .25), loc=2, borderaxespad=0.)"
     ],
     "language": "python",
     "metadata": {},
     "outputs": [
      {
       "output_type": "stream",
       "stream": "stdout",
       "text": [
        "                 svc: 0.895\n",
        " logistic_regression: 0.888\n",
        "                 knn: 0.887\n",
        "               gauss: 0.879\n",
        "       random_forest: 0.859\n",
        "       decision_tree: 0.705\n"
       ]
      },
      {
       "metadata": {},
       "output_type": "pyout",
       "prompt_number": 1750,
       "text": [
        "<matplotlib.legend.Legend at 0x11bcf8c90>"
       ]
      },
      {
       "metadata": {},
       "output_type": "display_data",
       "png": "[encoded data removed]",
       "text": [
        "<matplotlib.figure.Figure at 0x11bbe5350>"
       ]
      }
     ],
     "prompt_number": 1750
    },
    {
     "cell_type": "code",
     "collapsed": false,
     "input": [],
     "language": "python",
     "metadata": {},
     "outputs": [],
     "prompt_number": 1750
    }
   ],
   "metadata": {}
  }
 ]
}