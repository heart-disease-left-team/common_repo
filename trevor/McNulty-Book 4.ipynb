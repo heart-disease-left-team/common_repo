{
 "metadata": {
  "name": "",
  "signature": "sha256:a01ca24ce971aa386790151c1ed539b7b5511343ff44fb90760957a4d66b7513"
 },
 "nbformat": 3,
 "nbformat_minor": 0,
 "worksheets": [
  {
   "cells": [
    {
     "cell_type": "code",
     "collapsed": false,
     "input": [
      "%matplotlib inline\n",
      "import pymysql\n",
      "import pandas as pd\n",
      "import numpy as np\n",
      "import matplotlib.pyplot as plt\n",
      "import operator\n",
      "from sklearn.neighbors import KNeighborsClassifier\n",
      "from sklearn.linear_model import LogisticRegression\n",
      "from sklearn.naive_bayes import GaussianNB\n",
      "from sklearn.svm import SVC\n",
      "from sklearn.svm import LinearSVC\n",
      "from sklearn.tree import DecisionTreeClassifier\n",
      "from sklearn.ensemble import RandomForestClassifier\n",
      "from sklearn.cross_validation import train_test_split\n",
      "from sklearn.cross_validation import cross_val_score\n",
      "from sklearn.metrics import accuracy_score\n",
      "from sklearn.metrics import precision_recall_curve\n",
      "from sklearn.metrics import roc_curve\n",
      "from sklearn.metrics import auc\n",
      "from sklearn import preprocessing\n",
      "\n",
      "# function definitions\n",
      "def generic_cross_validation(model, X, y):\n",
      "    \"\"\" Function that returns a dictionary of accuracy, precision, recall, and f1 scores.  \n",
      "    Means and Standard Deviations are returned \"\"\"\n",
      "    accuracy_scores = cross_val_score(model, X, y, cv=5)\n",
      "    precision_scores = cross_val_score(model, X, y, cv=5, scoring='precision')\n",
      "    recall_scores = cross_val_score(model, X, y, cv=5, scoring='recall')\n",
      "    f1_scores = cross_val_score(model, X, y, cv=5, scoring='f1')\n",
      "    \n",
      "    return_dict = {\n",
      "        'mean': {\n",
      "            'accuracy': np.mean(accuracy_scores),\n",
      "            'precision': np.mean(precision_scores),\n",
      "            'recall': np.mean(recall_scores),\n",
      "            'f1': np.mean(f1_scores)\n",
      "        },\n",
      "        'std': {\n",
      "            'accuracy': np.std(accuracy_scores),\n",
      "            'precision': np.std(precision_scores),\n",
      "            'recall': np.std(recall_scores),\n",
      "            'f1': np.std(f1_scores)\n",
      "        }\n",
      "    }\n",
      "    return return_dict"
     ],
     "language": "python",
     "metadata": {},
     "outputs": [],
     "prompt_number": 679
    },
    {
     "cell_type": "code",
     "collapsed": false,
     "input": [
      "# connec to mysql server\n",
      "db = pymysql.connect(host=\"104.131.118.159\",  #your cloud ip\n",
      "                     user='root',\n",
      "                     passwd='leftyheart',\n",
      "                     db='heart_disease')\n",
      "\n",
      "cursor = db.cursor(pymysql.cursors.DictCursor)\n",
      "\n",
      "# populate Data Frame\n",
      "cursor.execute(\"\"\"\n",
      "select         \n",
      "--             id      \n",
      "--            ,ccf            \n",
      "            age            \n",
      "            ,case\n",
      "                when sex = 1\n",
      "                then 'male'\n",
      "                when sex = 0\n",
      "                then 'female'\n",
      "            end as sex\n",
      "--            ,sex\n",
      "/*            ,case             \n",
      "                when painloc = 1            \n",
      "                then 'painloc_substernal'            \n",
      "                when painloc = 0\n",
      "                then 'painloc_otherwise'            \n",
      "            end as painloc            */\n",
      "/*            ,case             \n",
      "                when painexer = 1            \n",
      "                then 'painexer_provoked_by_exertion'            \n",
      "                when painexer = 0\n",
      "                then 'painexer_otherwise'            \n",
      "            end as painexer            */\n",
      "/*            ,case             \n",
      "--                when relrest = 1\n",
      "--                then 'relrest_relieved_after_rest'            \n",
      "--                else 'relrest_otherwise'            \n",
      "                when relrest = 0\n",
      "                then 1\n",
      "                else 0            \n",
      "--            end as relrest            \n",
      "            end as pain_not_relived_after_rest       */\n",
      "            ,pncaden            \n",
      "            ,case             \n",
      "--                when cp = 1            \n",
      "--                then 'typical_angina '            \n",
      "--                when cp = 2            \n",
      "--                then 'atypical_angina'            \n",
      "--                when cp = 3            \n",
      "--                then 'non-anginal_pain'            \n",
      "                when cp = 4            \n",
      "--                then 'asymptomatic'            \n",
      "                then 1\n",
      "                else 0\n",
      "--            end as cp            \n",
      "            end as asymptomatic_chest_pain\n",
      "--            ,trestbps as resting_blood_pressure            \n",
      "--            ,htn            \n",
      "            ,chol as cholesterol           \n",
      "            ,smoke            \n",
      "            ,cigs            \n",
      "            ,years            \n",
      "--            ,fbs            \n",
      "            ,dm            \n",
      "            ,famhist            \n",
      "            ,case             \n",
      "                when restecg = 0            \n",
      "                then 'restecg_normal'            \n",
      "                when restecg = 1            \n",
      "                then 'restecg_st-t_wave_abnormality'            \n",
      "                when restecg = 2            \n",
      "                then 'restecg_left_ventricular_hypertrophy'            \n",
      "            end as restecg            \n",
      "--            ,ekgmo            \n",
      "--            ,ekgday            \n",
      "--            ,ekgyr            \n",
      "--            ,dig            \n",
      "--            ,prop            \n",
      "--            ,nitr            \n",
      "--            ,pro            \n",
      "--            ,diuretic            \n",
      "/*            ,case            \n",
      "                when proto = 1            \n",
      "                then 'proto_bruce'            \n",
      "                when proto = 2            \n",
      "                then 'proto_kottus'            \n",
      "                when proto = 3            \n",
      "                then 'proto_mchenry'            \n",
      "                when proto = 4            \n",
      "                then 'proto_fast_balke'            \n",
      "                when proto = 5            \n",
      "                then 'proto_balke'            \n",
      "                when proto = 6            \n",
      "                then 'proto_noughton'            \n",
      "                when proto = 7            \n",
      "                then 'proto_bike_150'            \n",
      "                when proto = 8            \n",
      "                then 'proto_bike_125'            \n",
      "                when proto = 9            \n",
      "                then 'proto_bike_100'            \n",
      "                when proto = 10            \n",
      "                then 'proto_bike_75'            \n",
      "                when proto = 11            \n",
      "                then 'proto_bike_50'            \n",
      "                when proto = 12            \n",
      "                then 'proto_arm_ergometer'            \n",
      "            end as proto            */\n",
      "--            ,thaldur            \n",
      "            ,thaltime            \n",
      "--            ,met as mets_achieved            \n",
      "            ,thalach as max_heart_rate           \n",
      "--            ,thalrest as resting_heart_rate            \n",
      "--            ,tpeakbps            \n",
      "--            ,tpeakbpd as peak_blood_pressure           \n",
      "--            ,dummy            \n",
      "--            ,trestbpd as rest_blood_pressure           \n",
      "            ,exang as exercise_induced_angina           \n",
      "--            ,xhypo            \n",
      "            ,oldpeak as st_depression           \n",
      "            ,case            \n",
      "--                when slope = 1            \n",
      "--                then 'slope_upsloping'            \n",
      "                when slope = 2            \n",
      "--                then 'slope_flat'    \n",
      "                then 1\n",
      "                else 0\n",
      "--                when slope = 3            \n",
      "--                then 'slope_downsloping'            \n",
      "--            end as slope   \n",
      "            end as flat_st_slope\n",
      "            ,rldv5            \n",
      "--            ,rldv5e as peak_exercise_height      \n",
      "            ,ca            \n",
      "            ,restckm            \n",
      "            ,exerckm            \n",
      "            ,restef            \n",
      "/*            ,case            \n",
      "                when restwm = 0            \n",
      "                then 'restwm_none'            \n",
      "                when restwm = 1            \n",
      "                then 'restwm_mild_moderate'            \n",
      "                when restwm = 2            \n",
      "                then 'restwm_moderate_severe'            \n",
      "                when restwm = 3            \n",
      "                then 'restwm_akinesis_dyskmem'            \n",
      "            end as restwm        */\n",
      "            ,exeref            \n",
      "            ,exerwm            \n",
      "/*            ,case             \n",
      "                when thal = 3            \n",
      "                then 'thal_normal'            \n",
      "                when thal = 6            \n",
      "                then 'thal_fixed_defect'            \n",
      "                when thal = 7            \n",
      "                then 'thal_reversable_defect'            \n",
      "--                then 1\n",
      "--                else 0\n",
      "            end as thal\n",
      "--            end as 'thal_reversable_defect'    */\n",
      "            ,thalsev            \n",
      "            ,thalpul            \n",
      "            ,earlobe            \n",
      "--            ,cmo            \n",
      "--            ,cday            \n",
      "--            ,cyr            \n",
      "            ,case\n",
      "                when num = 0\n",
      "                then 0\n",
      "                else 1\n",
      "            end as num\n",
      "            ,lmt            \n",
      "            ,ladprox            \n",
      "            ,laddist            \n",
      "            ,diag            \n",
      "            ,cxmain            \n",
      "            ,ramus            \n",
      "            ,om1            \n",
      "            ,om2            \n",
      "            ,rcaprox            \n",
      "            ,rcadist            \n",
      "--            ,lvx1            \n",
      "--            ,lvx2            \n",
      "--            ,lvx3            \n",
      "            ,lvx4            \n",
      "--            ,lvf            \n",
      "            ,cathef            \n",
      "            ,junk            \n",
      "--            ,name            \n",
      "--            ,hospital            \n",
      "            \n",
      "from         heart_disease.all_data\n",
      "\n",
      "-- where        hospital = 'long-beach'\n",
      "\"\"\")\n",
      "\n",
      "data = list(cursor.fetchall()) \n",
      "df = pd.DataFrame(data)\n",
      "# close connection to mysql    \n",
      "cursor.close()\n",
      "db.close()\n",
      "\n",
      "# convert categorical fields to dummys \n",
      "sex_dummies = pd.get_dummies(df['sex'])\n",
      "#painloc_dummies = pd.get_dummies(df['painloc'])\n",
      "#painexer_dummies = pd.get_dummies(df['painexer'])\n",
      "#relrest_dummies = pd.get_dummies(df['relrest'])\n",
      "restecg_dummies = pd.get_dummies(df['restecg'])\n",
      "#cp_dummies = pd.get_dummies(df['cp'])\n",
      "#proto_dummies = pd.get_dummies(df['proto'])\n",
      "#slope_dummies = pd.get_dummies(df['slope'])\n",
      "#restwm_dummies = pd.get_dummies(df['restwm'])\n",
      "#thal_dummies = pd.get_dummies(df['thal'])\n",
      "#hospital_dummies = pd.get_dummies(df['hospital'])\n",
      "\n",
      "\n",
      "\n",
      "# add dummies to dat frame\n",
      "df = pd.concat([\n",
      "                df\n",
      "                ,sex_dummies\n",
      "#                ,painloc_dummies\n",
      "#                , painexer_dummies\n",
      "#                , relrest_dummies\n",
      "#                , cp_dummies\n",
      "#                , proto_dummies\n",
      "#                , slope_dummies\n",
      "#                , restwm_dummies\n",
      "#                , thal_dummies\n",
      "#                , hospital_dummies\n",
      "                ]\n",
      "               , axis=1)\n",
      "\n",
      "del df['sex']\n",
      "#del df['painloc']\n",
      "#del df['painexer']\n",
      "#del df['relrest']\n",
      "del df['restecg']\n",
      "#del df['cp']\n",
      "#del df['proto']\n",
      "#del df['slope']\n",
      "#del df['restwm']\n",
      "#del df['thal']\n",
      "#del df['hospital']\n",
      "\n",
      "#df.fillna(0, inplace=True)\n",
      "for i in zip(list(df.columns.values),list(len(df.index)-df.count(axis=0))):\n",
      "#    print i\n",
      "    if i[1] > 200 :\n",
      "        del df[i[0]]\n",
      "cleaned_df = df.dropna(how='any')\n",
      "\n",
      "print cleaned_df.shape\n",
      "#cleaned_df"
     ],
     "language": "python",
     "metadata": {},
     "outputs": [
      {
       "output_type": "stream",
       "stream": "stdout",
       "text": [
        "(791, 11)\n"
       ]
      }
     ],
     "prompt_number": 680
    },
    {
     "cell_type": "code",
     "collapsed": false,
     "input": [
      "header = list(cleaned_df.columns.values)\n",
      "header.remove('num')\n",
      "X = preprocessing.scale(cleaned_df[header])\n",
      "y = cleaned_df['num']\n",
      "\n",
      "X_training, X_testing, y_training, y_testing = train_test_split(\n",
      "     X, y, test_size=0.33)\n",
      "\n",
      "auc_dict = {}"
     ],
     "language": "python",
     "metadata": {},
     "outputs": [],
     "prompt_number": 681
    },
    {
     "cell_type": "code",
     "collapsed": false,
     "input": [
      "# Baseline Accuracy\n",
      "positive = [i for i in y if i == 1]\n",
      "negtive = [i for i in y if i == 0]\n",
      "\n",
      "all_negative_accuracy = float(len(negtive))/float(len(y))\n",
      "print 'Guessing all negative: %.3f' % all_negative_accuracy"
     ],
     "language": "python",
     "metadata": {},
     "outputs": [
      {
       "output_type": "stream",
       "stream": "stdout",
       "text": [
        "Guessing all negative: 0.458\n"
       ]
      }
     ],
     "prompt_number": 682
    },
    {
     "cell_type": "code",
     "collapsed": false,
     "input": [
      "log_accuracy = []\n",
      "\n",
      "for k in range(1, 101):\n",
      "    C = .01 * k\n",
      "    log_model = LogisticRegression(penalty='l1', C=C)\n",
      "    log_model.fit(X_training, y_training) \n",
      "    y_pred = log_model.predict(X_testing)\n",
      "    y_true = y_testing\n",
      "    log_accuracy.append(accuracy_score(y_true, y_pred))\n",
      "\n",
      "plt.plot(range(1, 101), log_accuracy)\n",
      "print \"Accuracy: %.3f\" % (max(log_accuracy))\n",
      "print \"C: \", [i+1 for i, j in enumerate(log_accuracy) if j == max(log_accuracy)]"
     ],
     "language": "python",
     "metadata": {},
     "outputs": [
      {
       "output_type": "stream",
       "stream": "stdout",
       "text": [
        "Accuracy: 0.828\n",
        "C:  [36, 37, 38, 39, 40, 41, 42, 43, 44]\n"
       ]
      },
      {
       "metadata": {},
       "output_type": "display_data",
       "png": "[encoded data removed]",
       "text": [
        "<matplotlib.figure.Figure at 0x115c50590>"
       ]
      }
     ],
     "prompt_number": 683
    },
    {
     "cell_type": "code",
     "collapsed": false,
     "input": [
      "C = (log_accuracy.index(max(log_accuracy)) + 1) * .01\n",
      "logistic_model = LogisticRegression(penalty='l1', C=C)"
     ],
     "language": "python",
     "metadata": {},
     "outputs": [],
     "prompt_number": 684
    },
    {
     "cell_type": "code",
     "collapsed": false,
     "input": [
      "log_cross_val = generic_cross_validation(logistic_model, X, y)\n",
      "\n",
      "print \"Logistic Cross Validation:\"\n",
      "print \" -- Accuracy: %0.3f (+/- %0.3f)\" % (log_cross_val['mean']['accuracy'], \n",
      "                                           log_cross_val['std']['accuracy'])\n",
      "print \" -- Precision: %0.3f (+/- %0.3f)\" % (log_cross_val['mean']['precision'], \n",
      "                                           log_cross_val['std']['precision'])\n",
      "print \" -- Recall: %0.3f (+/- %0.3f)\" % (log_cross_val['mean']['recall'], \n",
      "                                           log_cross_val['std']['recall'])\n",
      "print \" -- F1: %0.3f (+/- %0.3f)\" % (log_cross_val['mean']['f1'], \n",
      "                                           log_cross_val['std']['f1'])"
     ],
     "language": "python",
     "metadata": {},
     "outputs": [
      {
       "output_type": "stream",
       "stream": "stdout",
       "text": [
        "Logistic Cross Validation:\n",
        " -- Accuracy: 0.799 (+/- 0.063)\n",
        " -- Precision: 0.839 (+/- 0.058)\n",
        " -- Recall: 0.781 (+/- 0.083)\n",
        " -- F1: 0.807 (+/- 0.062)\n"
       ]
      }
     ],
     "prompt_number": 685
    },
    {
     "cell_type": "code",
     "collapsed": false,
     "input": [
      "logistic_probas = logistic_model.fit(X_training, y_training).decision_function(X_testing)\n",
      "logistic_fpr, logistic_tpr, logistic_thresholds = roc_curve(y_true, logistic_probas, pos_label=1)\n",
      "logistic_auc = auc(logistic_fpr, logistic_tpr)\n",
      "auc_dict['logistic_regression'] = logistic_auc\n",
      "print \"AUC: %.3f\" % logistic_auc"
     ],
     "language": "python",
     "metadata": {},
     "outputs": [
      {
       "output_type": "stream",
       "stream": "stdout",
       "text": [
        "AUC: 0.898\n"
       ]
      }
     ],
     "prompt_number": 686
    },
    {
     "cell_type": "code",
     "collapsed": false,
     "input": [
      "coef_map = zip(logistic_model.coef_.tolist()[0],header)\n",
      "coef_map.sort()\n",
      "print len(coef_map)\n",
      "for i, j in coef_map:\n",
      "    print j, \": \", i"
     ],
     "language": "python",
     "metadata": {},
     "outputs": [
      {
       "output_type": "stream",
       "stream": "stdout",
       "text": [
        "10\n",
        "cholesterol :  -0.320865178583\n",
        "max_heart_rate :  -0.223254711404\n",
        "female :  -0.0296859762416\n",
        "age :  0.22596277831\n",
        "flat_st_slope :  0.404421854745\n",
        "st_depression :  0.422686610398\n",
        "exercise_induced_angina :  0.458182082519\n",
        "male :  0.49330773001\n",
        "lvx4 :  0.500649779261\n",
        "asymptomatic_chest_pain :  0.648461801075\n"
       ]
      }
     ],
     "prompt_number": 687
    },
    {
     "cell_type": "code",
     "collapsed": false,
     "input": [
      "knn_accuracy = []\n",
      "max_k = cleaned_df.shape[1]\n",
      "#print max_k\n",
      "\n",
      "for k in range(1, max_k):\n",
      "    neigh = KNeighborsClassifier(n_neighbors=k)\n",
      "    neigh.fit(X_training, y_training) \n",
      "    y_pred = neigh.predict(X_testing)\n",
      "    y_true = y_testing\n",
      "    knn_accuracy.append(accuracy_score(y_true, y_pred))\n",
      "\n",
      "plt.plot(range(1, max_k), knn_accuracy)\n",
      "print \"KNN Accuracy: %0.3f\" % (max(knn_accuracy))\n",
      "print \"K: \", [i+1 for i, j in enumerate(knn_accuracy) if j == max(knn_accuracy)]"
     ],
     "language": "python",
     "metadata": {},
     "outputs": [
      {
       "output_type": "stream",
       "stream": "stdout",
       "text": [
        "KNN Accuracy: 0.817\n",
        "K:  [7]\n"
       ]
      },
      {
       "metadata": {},
       "output_type": "display_data",
       "png": "[encoded data removed]",
       "text": [
        "<matplotlib.figure.Figure at 0x115b28190>"
       ]
      }
     ],
     "prompt_number": 688
    },
    {
     "cell_type": "code",
     "collapsed": false,
     "input": [
      "k = knn_accuracy.index(max(knn_accuracy))+1\n",
      "knn_model = KNeighborsClassifier(k)"
     ],
     "language": "python",
     "metadata": {},
     "outputs": [],
     "prompt_number": 689
    },
    {
     "cell_type": "code",
     "collapsed": false,
     "input": [
      "knn_cross_val = generic_cross_validation(knn_model, X, y)\n",
      "\n",
      "print \"KNN Validation:\"\n",
      "print \" -- Accuracy: %0.3f (+/- %0.3f)\" % (knn_cross_val['mean']['accuracy'], \n",
      "                                           knn_cross_val['std']['accuracy'])\n",
      "print \" -- Precision: %0.3f (+/- %0.3f)\" % (knn_cross_val['mean']['precision'], \n",
      "                                           knn_cross_val['std']['precision'])\n",
      "print \" -- Recall: %0.3f (+/- %0.3f)\" % (knn_cross_val['mean']['recall'], \n",
      "                                           knn_cross_val['std']['recall'])\n",
      "print \" -- F1: %0.3f (+/- %0.3f)\" % (knn_cross_val['mean']['f1'], \n",
      "                                           knn_cross_val['std']['f1'])"
     ],
     "language": "python",
     "metadata": {},
     "outputs": [
      {
       "output_type": "stream",
       "stream": "stdout",
       "text": [
        "KNN Validation:\n",
        " -- Accuracy: 0.774 (+/- 0.042)\n",
        " -- Precision: 0.825 (+/- 0.054)\n",
        " -- Recall: 0.749 (+/- 0.090)\n",
        " -- F1: 0.780 (+/- 0.048)\n"
       ]
      }
     ],
     "prompt_number": 690
    },
    {
     "cell_type": "code",
     "collapsed": false,
     "input": [
      "knn_probas = knn_model.fit(X_training, y_training).predict_proba(X_testing)\n",
      "knn_fpr, knn_tpr, knn_thresholds = roc_curve(y_true, knn_probas[:, 1], pos_label=1)\n",
      "knn_auc = auc(knn_fpr, knn_tpr)\n",
      "auc_dict['knn'] = knn_auc\n",
      "print \"AUC: %.3f\" % knn_auc"
     ],
     "language": "python",
     "metadata": {},
     "outputs": [
      {
       "output_type": "stream",
       "stream": "stdout",
       "text": [
        "AUC: 0.866\n"
       ]
      }
     ],
     "prompt_number": 691
    },
    {
     "cell_type": "code",
     "collapsed": false,
     "input": [
      "# explore the gaussian model\n",
      "gauss_model = GaussianNB()"
     ],
     "language": "python",
     "metadata": {},
     "outputs": [],
     "prompt_number": 692
    },
    {
     "cell_type": "code",
     "collapsed": false,
     "input": [
      "gauss_cross_val = generic_cross_validation(gauss_model, X, y)\n",
      "\n",
      "print \"Gaussian Naive Bayes Cross Validation:\"\n",
      "print \" -- Accuracy: %0.3f (+/- %0.3f)\" % (gauss_cross_val['mean']['accuracy'], \n",
      "                                           gauss_cross_val['std']['accuracy'])\n",
      "print \" -- Precision: %0.3f (+/- %0.3f)\" % (gauss_cross_val['mean']['precision'], \n",
      "                                           gauss_cross_val['std']['precision'])\n",
      "print \" -- Recall: %0.3f (+/- %0.3f)\" % (gauss_cross_val['mean']['recall'], \n",
      "                                           gauss_cross_val['std']['recall'])\n",
      "print \" -- F1: %0.3f (+/- %0.3f)\" % (gauss_cross_val['mean']['f1'], \n",
      "                                           gauss_cross_val['std']['f1'])"
     ],
     "language": "python",
     "metadata": {},
     "outputs": [
      {
       "output_type": "stream",
       "stream": "stdout",
       "text": [
        "Gaussian Naive Bayes Cross Validation:\n",
        " -- Accuracy: 0.816 (+/- 0.058)\n",
        " -- Precision: 0.878 (+/- 0.070)\n",
        " -- Recall: 0.779 (+/- 0.125)\n",
        " -- F1: 0.817 (+/- 0.068)\n"
       ]
      }
     ],
     "prompt_number": 693
    },
    {
     "cell_type": "code",
     "collapsed": false,
     "input": [
      "gauss_probas = gauss_model.fit(X_training, y_training).predict_proba(X_testing)\n",
      "gauss_fpr, gauss_tpr, gauss_thresholds = roc_curve(y_true, gauss_probas[:, 1], pos_label=1)\n",
      "gauss_auc = auc(gauss_fpr, gauss_tpr)\n",
      "auc_dict['gauss'] = gauss_auc\n",
      "print \"AUC: %.3f\" % gauss_auc"
     ],
     "language": "python",
     "metadata": {},
     "outputs": [
      {
       "output_type": "stream",
       "stream": "stdout",
       "text": [
        "AUC: 0.896\n"
       ]
      }
     ],
     "prompt_number": 694
    },
    {
     "cell_type": "code",
     "collapsed": false,
     "input": [
      "# explore the SVC model\n",
      "svc_accuracy = []\n",
      "\n",
      "for k in range(1, 101):\n",
      "    c = .01 * k\n",
      "    svc_model = SVC(C=c)\n",
      "    svc_model.fit(X_training, y_training) \n",
      "    y_pred = svc_model.predict(X_testing)\n",
      "    y_true = y_testing\n",
      "    svc_accuracy.append(accuracy_score(y_true, y_pred))\n",
      "\n",
      "plt.plot(range(1, 101), svc_accuracy)\n",
      "print \"Accuracy: %.3f\" % (max(svc_accuracy))\n",
      "print \"C: \", [i+1 for i, j in enumerate(svc_accuracy) if j == max(svc_accuracy)]"
     ],
     "language": "python",
     "metadata": {},
     "outputs": [
      {
       "output_type": "stream",
       "stream": "stdout",
       "text": [
        "Accuracy: 0.824\n",
        "C:  [79]\n"
       ]
      },
      {
       "metadata": {},
       "output_type": "display_data",
       "png": "[encoded data removed]",
       "text": [
        "<matplotlib.figure.Figure at 0x115c5a9d0>"
       ]
      }
     ],
     "prompt_number": 695
    },
    {
     "cell_type": "code",
     "collapsed": false,
     "input": [
      "c = (svc_accuracy.index(max(svc_accuracy)) + 1) * .01\n",
      "svc_model = SVC(C=c)"
     ],
     "language": "python",
     "metadata": {},
     "outputs": [],
     "prompt_number": 696
    },
    {
     "cell_type": "code",
     "collapsed": false,
     "input": [
      "svc_model"
     ],
     "language": "python",
     "metadata": {},
     "outputs": [
      {
       "metadata": {},
       "output_type": "pyout",
       "prompt_number": 697,
       "text": [
        "SVC(C=0.79, cache_size=200, class_weight=None, coef0=0.0, degree=3, gamma=0.0,\n",
        "  kernel='rbf', max_iter=-1, probability=False, random_state=None,\n",
        "  shrinking=True, tol=0.001, verbose=False)"
       ]
      }
     ],
     "prompt_number": 697
    },
    {
     "cell_type": "code",
     "collapsed": false,
     "input": [
      "svc_cross_val = generic_cross_validation(svc_model, X, y)\n",
      "\n",
      "print \"SVC Cross Validation:\"\n",
      "print \" -- Accuracy: %0.3f (+/- %0.3f)\" % (svc_cross_val['mean']['accuracy'], \n",
      "                                           svc_cross_val['std']['accuracy'])\n",
      "print \" -- Precision: %0.3f (+/- %0.3f)\" % (svc_cross_val['mean']['precision'], \n",
      "                                           svc_cross_val['std']['precision'])\n",
      "print \" -- Recall: %0.3f (+/- %0.3f)\" % (svc_cross_val['mean']['recall'], \n",
      "                                           svc_cross_val['std']['recall'])\n",
      "print \" -- F1: %0.3f (+/- %0.3f)\" % (svc_cross_val['mean']['f1'], \n",
      "                                           svc_cross_val['std']['f1'])"
     ],
     "language": "python",
     "metadata": {},
     "outputs": [
      {
       "output_type": "stream",
       "stream": "stdout",
       "text": [
        "SVC Cross Validation:\n",
        " -- Accuracy: 0.793 (+/- 0.049)\n",
        " -- Precision: 0.828 (+/- 0.075)\n",
        " -- Recall: 0.797 (+/- 0.086)\n",
        " -- F1: 0.806 (+/- 0.044)\n"
       ]
      }
     ],
     "prompt_number": 698
    },
    {
     "cell_type": "code",
     "collapsed": false,
     "input": [
      "svc_probas = svc_model.fit(X_training, y_training).decision_function(X_testing)\n",
      "svc_fpr, svc_tpr, svc_thresholds = roc_curve(y_true, svc_probas, pos_label=1)\n",
      "svc_auc = auc(svc_fpr, svc_tpr)\n",
      "auc_dict['svc'] = svc_auc\n",
      "print \"AUC: %.3f\" % svc_auc"
     ],
     "language": "python",
     "metadata": {},
     "outputs": [
      {
       "output_type": "stream",
       "stream": "stdout",
       "text": [
        "AUC: 0.887\n"
       ]
      }
     ],
     "prompt_number": 699
    },
    {
     "cell_type": "code",
     "collapsed": false,
     "input": [
      "# explore the Decision Tree model\n",
      "decision_tree_model = DecisionTreeClassifier()"
     ],
     "language": "python",
     "metadata": {},
     "outputs": [],
     "prompt_number": 700
    },
    {
     "cell_type": "code",
     "collapsed": false,
     "input": [
      "dt_cross_val = generic_cross_validation(decision_tree_model, X, y)\n",
      "\n",
      "print \"Decision Tree Cross Validation:\"\n",
      "print \" -- Accuracy: %0.3f (+/- %0.3f)\" % (dt_cross_val['mean']['accuracy'], \n",
      "                                           dt_cross_val['std']['accuracy'])\n",
      "print \" -- Precision: %0.3f (+/- %0.3f)\" % (dt_cross_val['mean']['precision'], \n",
      "                                           dt_cross_val['std']['precision'])\n",
      "print \" -- Recall: %0.3f (+/- %0.3f)\" % (dt_cross_val['mean']['recall'], \n",
      "                                           dt_cross_val['std']['recall'])\n",
      "print \" -- F1: %0.3f (+/- %0.3f)\" % (dt_cross_val['mean']['f1'], \n",
      "                                           dt_cross_val['std']['f1'])"
     ],
     "language": "python",
     "metadata": {},
     "outputs": [
      {
       "output_type": "stream",
       "stream": "stdout",
       "text": [
        "Decision Tree Cross Validation:\n",
        " -- Accuracy: 0.723 (+/- 0.053)\n",
        " -- Precision: 0.745 (+/- 0.051)\n",
        " -- Recall: 0.711 (+/- 0.117)\n",
        " -- F1: 0.724 (+/- 0.070)\n"
       ]
      }
     ],
     "prompt_number": 701
    },
    {
     "cell_type": "code",
     "collapsed": false,
     "input": [
      "dt_probas = decision_tree_model.fit(X_training, y_training).predict_proba(X_testing)\n",
      "dt_fpr, dt_tpr, dt_thresholds = roc_curve(y_true, dt_probas[:,1], pos_label=1)\n",
      "dt_auc = auc(dt_fpr, dt_tpr)\n",
      "auc_dict['decision_tree'] = dt_auc\n",
      "print \"AUC: %.3f\" % dt_auc"
     ],
     "language": "python",
     "metadata": {},
     "outputs": [
      {
       "output_type": "stream",
       "stream": "stdout",
       "text": [
        "AUC: 0.718\n"
       ]
      }
     ],
     "prompt_number": 702
    },
    {
     "cell_type": "code",
     "collapsed": false,
     "input": [
      "# explore the Random Forest model\n",
      "random_forest_model = RandomForestClassifier()"
     ],
     "language": "python",
     "metadata": {},
     "outputs": [],
     "prompt_number": 703
    },
    {
     "cell_type": "code",
     "collapsed": false,
     "input": [
      "rf_cross_val = generic_cross_validation(random_forest_model, X, y)\n",
      "\n",
      "print \"Random Forest Cross Validation:\"\n",
      "print \" -- Accuracy: %0.3f (+/- %0.3f)\" % (rf_cross_val['mean']['accuracy'], \n",
      "                                           rf_cross_val['std']['accuracy'])\n",
      "print \" -- Precision: %0.3f (+/- %0.3f)\" % (rf_cross_val['mean']['precision'], \n",
      "                                           rf_cross_val['std']['precision'])\n",
      "print \" -- Recall: %0.3f (+/- %0.3f)\" % (rf_cross_val['mean']['recall'], \n",
      "                                           rf_cross_val['std']['recall'])\n",
      "print \" -- F1: %0.3f (+/- %0.3f)\" % (rf_cross_val['mean']['f1'], \n",
      "                                           rf_cross_val['std']['f1'])"
     ],
     "language": "python",
     "metadata": {},
     "outputs": [
      {
       "output_type": "stream",
       "stream": "stdout",
       "text": [
        "Random Forest Cross Validation:\n",
        " -- Accuracy: 0.757 (+/- 0.045)\n",
        " -- Precision: 0.815 (+/- 0.076)\n",
        " -- Recall: 0.725 (+/- 0.088)\n",
        " -- F1: 0.780 (+/- 0.040)\n"
       ]
      }
     ],
     "prompt_number": 704
    },
    {
     "cell_type": "code",
     "collapsed": false,
     "input": [
      "rf_probas = random_forest_model.fit(X_training, y_training).predict_proba(X_testing)\n",
      "rf_fpr, rf_tpr, rf_thresholds = roc_curve(y_true, rf_probas[:,1], pos_label=1)\n",
      "rf_auc = auc(rf_fpr, rf_tpr)\n",
      "auc_dict['random_forest'] = rf_auc\n",
      "print \"AUC: %.3f\" % rf_auc"
     ],
     "language": "python",
     "metadata": {},
     "outputs": [
      {
       "output_type": "stream",
       "stream": "stdout",
       "text": [
        "AUC: 0.850\n"
       ]
      }
     ],
     "prompt_number": 705
    },
    {
     "cell_type": "code",
     "collapsed": false,
     "input": [
      "plt.figure(figsize=[15,6])\n",
      "logistic_plot, = plt.plot(logistic_fpr, logistic_tpr, label='Logistic Regression')\n",
      "knn_plot, = plt.plot(knn_fpr, knn_tpr, label='KNN')\n",
      "gauss_plot, = plt.plot(gauss_fpr, gauss_tpr, label='Gaussian Naive Bayes')\n",
      "svc_plot, = plt.plot(svc_fpr, svc_tpr, label='SVC')\n",
      "dt_plot, = plt.plot(dt_fpr, dt_tpr, label='Decision Tree')\n",
      "rf_plot, = plt.plot(rf_fpr, rf_tpr, label='Random Forest')\n",
      "\n",
      "sortable_list = [(k, v) for k, v in auc_dict.iteritems()]\n",
      "sortable_list.sort(key=operator.itemgetter(1), reverse=True)\n",
      "\n",
      "for k, v in sortable_list:\n",
      "    print \"%20s: %0.3f\" % (k, v)\n",
      "\n",
      "plt.xlabel('FPR')\n",
      "plt.ylabel('TPR')\n",
      "plt.legend(handles=[logistic_plot, knn_plot, gauss_plot, svc_plot, dt_plot, rf_plot])\n",
      "plt.legend(bbox_to_anchor=(.75, .25), loc=2, borderaxespad=0.)"
     ],
     "language": "python",
     "metadata": {},
     "outputs": [
      {
       "output_type": "stream",
       "stream": "stdout",
       "text": [
        " logistic_regression: 0.898\n",
        "               gauss: 0.896\n",
        "                 svc: 0.887\n",
        "                 knn: 0.866\n",
        "       random_forest: 0.850\n",
        "       decision_tree: 0.718\n"
       ]
      },
      {
       "metadata": {},
       "output_type": "pyout",
       "prompt_number": 706,
       "text": [
        "<matplotlib.legend.Legend at 0x1143d8d90>"
       ]
      },
      {
       "metadata": {},
       "output_type": "display_data",
       "png": "[encoded data removed]",
       "text": [
        "<matplotlib.figure.Figure at 0x114941f10>"
       ]
      }
     ],
     "prompt_number": 706
    },
    {
     "cell_type": "code",
     "collapsed": false,
     "input": [],
     "language": "python",
     "metadata": {},
     "outputs": [],
     "prompt_number": 706
    }
   ],
   "metadata": {}
  }
 ]
}