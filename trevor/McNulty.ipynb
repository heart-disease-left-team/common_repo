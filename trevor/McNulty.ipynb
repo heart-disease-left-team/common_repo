{
 "metadata": {
  "name": "",
  "signature": "sha256:9ae208c916629579ee196b58ccd2529892db9911bf7a5007fc22a1ea9b4d2ebd"
 },
 "nbformat": 3,
 "nbformat_minor": 0,
 "worksheets": [
  {
   "cells": [
    {
     "cell_type": "code",
     "collapsed": false,
     "input": [
      "%matplotlib inline\n",
      "import pymysql\n",
      "import pandas as pd\n",
      "import numpy as np\n",
      "import matplotlib.pyplot as plt\n",
      "import operator\n",
      "from sklearn.neighbors import KNeighborsClassifier\n",
      "from sklearn.linear_model import LogisticRegression\n",
      "from sklearn.cross_validation import train_test_split\n",
      "from sklearn.cross_validation import cross_val_score\n",
      "from sklearn.metrics import accuracy_score"
     ],
     "language": "python",
     "metadata": {},
     "outputs": [],
     "prompt_number": 377
    },
    {
     "cell_type": "code",
     "collapsed": false,
     "input": [
      "# connec to mysql server\n",
      "db = pymysql.connect(host=\"104.131.118.159\",  #your cloud ip\n",
      "                     user='root',\n",
      "                     passwd='leftyheart',\n",
      "                     db='heart_disease')\n",
      "\n",
      "cursor = db.cursor(pymysql.cursors.DictCursor)\n",
      "\n",
      "# populate Data Frame\n",
      "cursor.execute(\"\"\"select         \n",
      "         --  id      \n",
      "         -- ,ccf            \n",
      "            age            \n",
      "/*            ,case\n",
      "                when sex = 1\n",
      "                then 'male'\n",
      "                when sex = 0\n",
      "                then 'female'\n",
      "            end as sex\n",
      "*/          ,sex\n",
      "            ,case             \n",
      "                when painloc = 1            \n",
      "                then 'painloc_substernal'            \n",
      "                when painloc = 0\n",
      "                then 'painloc_otherwise'            \n",
      "            end as painloc            \n",
      "            ,case             \n",
      "                when painexer = 1            \n",
      "                then 'painexer_provoked_by_exertion'            \n",
      "                when painexer = 0\n",
      "                then 'painexer_otherwise'            \n",
      "            end as painexer            \n",
      "            ,case             \n",
      "                when relrest = 1            \n",
      "                then 'relrest_relieved_after_rest'            \n",
      "                else 'relrest_otherwise'            \n",
      "            end as relrest            \n",
      "            ,pncaden            \n",
      "            ,case             \n",
      "                when cp = 1            \n",
      "                then 'typical_angina '            \n",
      "                when cp = 2            \n",
      "                then 'atypical angina'            \n",
      "                when cp = 3            \n",
      "                then 'non-anginal pain'            \n",
      "                when cp = 4            \n",
      "                then 'asymptomatic'            \n",
      "            end as cp            \n",
      "            ,trestbps            \n",
      "       --     ,htn            \n",
      "            ,chol            \n",
      "            ,smoke            \n",
      "            ,cigs            \n",
      "            ,years            \n",
      "      --      ,fbs            \n",
      "            ,dm            \n",
      "            ,famhist            \n",
      "            ,case             \n",
      "                when restecg = 0            \n",
      "                then 'restecg_normal'            \n",
      "                when restecg = 1            \n",
      "                then 'restecg_st-t_wave_abnormality'            \n",
      "                when restecg = 2            \n",
      "                then 'restecg_left_ventricular_hypertrophy'            \n",
      "            end as restecg            \n",
      "            ,ekgmo            \n",
      "            ,ekgday            \n",
      "            ,ekgyr            \n",
      "          --  ,dig            \n",
      "          --  ,prop            \n",
      "          --  ,nitr            \n",
      "          --  ,pro            \n",
      "          --  ,diuretic            \n",
      "          /*  ,case            \n",
      "                when proto = 1            \n",
      "                then 'proto_bruce'            \n",
      "                when proto = 2            \n",
      "                then 'proto_kottus'            \n",
      "                when proto = 3            \n",
      "                then 'proto_mchenry'            \n",
      "                when proto = 4            \n",
      "                then 'proto_fast_balke'            \n",
      "                when proto = 5            \n",
      "                then 'proto_balke'            \n",
      "                when proto = 6            \n",
      "                then 'proto_noughton'            \n",
      "                when proto = 7            \n",
      "                then 'proto_bike_150'            \n",
      "                when proto = 8            \n",
      "                then 'proto_bike_125'            \n",
      "                when proto = 9            \n",
      "                then 'proto_bike_100'            \n",
      "                when proto = 10            \n",
      "                then 'proto_bike_75'            \n",
      "                when proto = 11            \n",
      "                then 'proto_bike_50'            \n",
      "                when proto = 12            \n",
      "                then 'proto_arm_ergometer'            \n",
      "            end as proto            */\n",
      "       --     ,thaldur            \n",
      "            ,thaltime            \n",
      "            ,met            \n",
      "            ,thalach            \n",
      "            ,thalrest            \n",
      "            ,tpeakbps            \n",
      "            ,tpeakbpd            \n",
      "        --  ,dummy            \n",
      "            ,trestbpd            \n",
      "            ,exang            \n",
      "         --   ,xhypo            \n",
      "            ,oldpeak            \n",
      "            ,case            \n",
      "                when slope = 1            \n",
      "                then 'slope_upsloping'            \n",
      "                when slope = 2            \n",
      "                then 'slope_flat'            \n",
      "                when slope = 3            \n",
      "                then 'slope_downsloping'            \n",
      "            end as slope            \n",
      "            ,rldv5            \n",
      "            ,rldv5e            \n",
      "    --        ,ca            \n",
      "    --      ,restckm            \n",
      "    --      ,exerckm            \n",
      "    --        ,restef            \n",
      "    /*        ,case            \n",
      "                when restwm = 0            \n",
      "                then 'restwm_none'            \n",
      "                when restwm = 1            \n",
      "                then 'restwm_mild_moderate'            \n",
      "                when restwm = 2            \n",
      "                then 'restwm_moderate_severe'            \n",
      "                when restwm = 3            \n",
      "                then 'restwm_akinesis_dyskmem'            \n",
      "            end as restwm        */    \n",
      "      --      ,exeref            \n",
      "      --      ,exerwm            \n",
      "            ,case             \n",
      "                when thal = 3            \n",
      "                then 'thal_normal'            \n",
      "                when thal = 6            \n",
      "                then 'thal_fixed_defect'            \n",
      "                when thal = 7            \n",
      "                then 'thal_reversable_defect'            \n",
      "            end as thal            \n",
      "    --      ,thalsev            \n",
      "    --      ,thalpul            \n",
      "    --      ,earlobe            \n",
      "    --        ,cmo            \n",
      "    --        ,cday            \n",
      "    --        ,cyr            \n",
      "            ,case\n",
      "                when num = 0\n",
      "                then 0\n",
      "                else 1\n",
      "            end as num\n",
      "     --       ,lmt            \n",
      "     --       ,ladprox            \n",
      "    --        ,laddist            \n",
      "    --        ,diag            \n",
      "    --        ,cxmain            \n",
      "    --        ,ramus            \n",
      "    --        ,om1            \n",
      "    --        ,om2            \n",
      "    --        ,rcaprox            \n",
      "    --        ,rcadist            \n",
      "    --      ,lvx1            \n",
      "    --      ,lvx2            \n",
      "    --      ,lvx3            \n",
      "    --      ,lvx4            \n",
      "    --      ,lvf            \n",
      "    --      ,cathef            \n",
      "    --      ,junk            \n",
      "    --      ,name            \n",
      "            ,hospital            \n",
      "            \n",
      "from         heart_disease.all_data\"\"\")\n",
      "\n",
      "data = list(cursor.fetchall()) \n",
      "df = pd.DataFrame(data)\n",
      "# close connection to mysql    \n",
      "cursor.close()\n",
      "db.close()\n",
      "\n",
      "# convert categorical fields to dummys \n",
      "sex_dummies = pd.get_dummies(df['sex'])\n",
      "painloc_dummies = pd.get_dummies(df['painloc'])\n",
      "painexer_dummies = pd.get_dummies(df['painexer'])\n",
      "relrest_dummies = pd.get_dummies(df['relrest'])\n",
      "restecg_dummies = pd.get_dummies(df['restecg'])\n",
      "cp_dummies = pd.get_dummies(df['cp'])\n",
      "#proto_dummies = pd.get_dummies(df['proto'])\n",
      "slope_dummies = pd.get_dummies(df['slope'])\n",
      "#restwm_dummies = pd.get_dummies(df['restwm'])\n",
      "thal_dummies = pd.get_dummies(df['thal'])\n",
      "hospital_dummies = pd.get_dummies(df['hospital'])\n",
      "\n",
      "\n",
      "\n",
      "# add dummies to dat frame\n",
      "df = pd.concat([\n",
      "                df\n",
      "#                ,sex_dummies\n",
      "#                ,painloc_dummies\n",
      "#                , painexer_dummies\n",
      "#                , relrest_dummies\n",
      "#                , cp_dummies\n",
      "#                , proto_dummies\n",
      "#                , slope_dummies\n",
      "#                , restwm_dummies\n",
      "#                , thal_dummies\n",
      "#                , hospital_dummies\n",
      "                ]\n",
      "               , axis=1)\n",
      "\n",
      "#del df['sex']\n",
      "del df['painloc']\n",
      "del df['painexer']\n",
      "del df['relrest']\n",
      "del df['restecg']\n",
      "del df['cp']\n",
      "#del df['proto']\n",
      "del df['slope']\n",
      "#del df['restwm']\n",
      "del df['thal']\n",
      "del df['hospital']\n",
      "\n",
      "#df.fillna(0, inplace=True)\n",
      "for i in zip(list(df.columns.values),list(len(df.index)-df.count(axis=0))):\n",
      "    if i[1] > 100:\n",
      "        del df[i[0]]\n",
      "cleaned_df = df.dropna(how='any')\n",
      "#df.fillna(0, inplace=True)\n",
      "\n",
      "#cleaned_df"
     ],
     "language": "python",
     "metadata": {},
     "outputs": [],
     "prompt_number": 378
    },
    {
     "cell_type": "code",
     "collapsed": false,
     "input": [
      "log_accuracy = []\n",
      "\n",
      "for k in range(1, 101):\n",
      "    C = .01 * k\n",
      "    log_model = LogisticRegression(penalty='l1', C=C)\n",
      "    log_model.fit(X_training, y_training) \n",
      "    y_pred = log_model.predict(X_testing)\n",
      "    y_true = y_testing\n",
      "    log_accuracy.append(accuracy_score(y_true, y_pred))\n",
      "\n",
      "plt.plot(range(1, 101), log_accuracy)\n",
      "print \"Accuracy: \", (max(log_accuracy))\n",
      "print \"C: \", [i+1 for i, j in enumerate(log_accuracy) if j == max(log_accuracy)]"
     ],
     "language": "python",
     "metadata": {},
     "outputs": [
      {
       "output_type": "stream",
       "stream": "stdout",
       "text": [
        "Accuracy:  0.757575757576\n",
        "C:  [24, 25]\n"
       ]
      },
      {
       "metadata": {},
       "output_type": "display_data",
       "png": "[encoded data removed]",
       "text": [
        "<matplotlib.figure.Figure at 0x1151f6690>"
       ]
      }
     ],
     "prompt_number": 379
    },
    {
     "cell_type": "code",
     "collapsed": false,
     "input": [
      "C = log_accuracy.index(max(log_accuracy)) * .01\n",
      "\n",
      "logistic_model = LogisticRegression(penalty='l1', C=C)\n",
      "\n",
      "header = list(cleaned_df.columns.values)\n",
      "header.remove('num')\n",
      "X = cleaned_df[header]\n",
      "y = cleaned_df['num']\n",
      "\n",
      "X_training, X_testing, y_training, y_testing = train_test_split(\n",
      "     X, y, test_size=0.33)\n"
     ],
     "language": "python",
     "metadata": {},
     "outputs": [],
     "prompt_number": 380
    },
    {
     "cell_type": "code",
     "collapsed": false,
     "input": [
      "logistic_model.fit(X_training, y_training)"
     ],
     "language": "python",
     "metadata": {},
     "outputs": [
      {
       "metadata": {},
       "output_type": "pyout",
       "prompt_number": 381,
       "text": [
        "LogisticRegression(C=0.23, class_weight=None, dual=False, fit_intercept=True,\n",
        "          intercept_scaling=1, penalty='l1', random_state=None, tol=0.0001)"
       ]
      }
     ],
     "prompt_number": 381
    },
    {
     "cell_type": "code",
     "collapsed": false,
     "input": [
      "y_pred = logistic_model.predict(X_testing)\n",
      "y_true = y_testing\n",
      "print accuracy_score(y_true, y_pred)"
     ],
     "language": "python",
     "metadata": {},
     "outputs": [
      {
       "output_type": "stream",
       "stream": "stdout",
       "text": [
        "0.849056603774\n"
       ]
      }
     ],
     "prompt_number": 382
    },
    {
     "cell_type": "code",
     "collapsed": false,
     "input": [
      "logistic_scores = cross_val_score(logistic_model, X, y, cv=5)\n",
      "print(\"Logistic Accuracy: %0.2f (+/- %0.2f)\" % (logistic_scores.mean(), logistic_scores.std() * 2))"
     ],
     "language": "python",
     "metadata": {},
     "outputs": [
      {
       "output_type": "stream",
       "stream": "stdout",
       "text": [
        "Logistic Accuracy: 0.75 (+/- 0.16)\n"
       ]
      }
     ],
     "prompt_number": 383
    },
    {
     "cell_type": "code",
     "collapsed": false,
     "input": [
      "knn_accuracy = []\n",
      "\n",
      "for k in range(1, 100):\n",
      "    neigh = KNeighborsClassifier(n_neighbors=k)\n",
      "    neigh.fit(X_training, y_training) \n",
      "    y_pred = neigh.predict(X_testing)\n",
      "    y_true = y_testing\n",
      "    knn_accuracy.append(accuracy_score(y_true, y_pred))\n",
      "\n",
      "plt.plot(range(1, 100), knn_accuracy)\n",
      "print \"Accuracy: \", (max(knn_accuracy))\n",
      "print \"K: \", [i for i, j in enumerate(knn_accuracy) if j == max(knn_accuracy)]\n",
      "\n"
     ],
     "language": "python",
     "metadata": {},
     "outputs": [
      {
       "output_type": "stream",
       "stream": "stdout",
       "text": [
        "Accuracy:  0.739622641509\n",
        "K:  [34, 41]\n"
       ]
      },
      {
       "metadata": {},
       "output_type": "display_data",
       "png": "[encoded data removed]",
       "text": [
        "<matplotlib.figure.Figure at 0x114308ed0>"
       ]
      }
     ],
     "prompt_number": 384
    },
    {
     "cell_type": "code",
     "collapsed": false,
     "input": [
      "k = knn_accuracy.index(max(knn_accuracy))\n",
      "knn_model = KNeighborsClassifier(k)\n",
      "knn_model.fit(X_training, y_training)\n",
      "knn_scores = cross_val_score(knn_model, X, y, cv=2)\n",
      "print(\"KNN Accuracy: %0.2f (+/- %0.2f)\" % (knn_scores.mean(), knn_scores.std() * 2))"
     ],
     "language": "python",
     "metadata": {},
     "outputs": [
      {
       "output_type": "stream",
       "stream": "stdout",
       "text": [
        "KNN Accuracy: 0.59 (+/- 0.13)\n"
       ]
      }
     ],
     "prompt_number": 385
    },
    {
     "cell_type": "code",
     "collapsed": false,
     "input": [
      "coef_map = zip(logistic_model.coef_.tolist()[0],header)\n",
      "coef_map.sort()\n",
      "print len(coef_map)\n",
      "for i, j in coef_map:\n",
      "    print j, \": \", i"
     ],
     "language": "python",
     "metadata": {},
     "outputs": [
      {
       "output_type": "stream",
       "stream": "stdout",
       "text": [
        "14\n",
        "ekgday :  -0.0196374264542\n",
        "thalach :  -0.015815757181\n",
        "trestbpd :  -0.0147218988451\n",
        "tpeakbpd :  -0.00678191590084\n",
        "thalrest :  -0.00645804585415\n",
        "chol :  -0.00327000041716\n",
        "tpeakbps :  -0.00154476164274\n",
        "ekgmo :  0.0117639810708\n",
        "trestbps :  0.0127364229542\n",
        "age :  0.0180776870228\n",
        "ekgyr :  0.0199454578101\n",
        "oldpeak :  0.583552889737\n",
        "exang :  0.98900544168\n",
        "sex :  0.998192296565\n"
       ]
      }
     ],
     "prompt_number": 386
    },
    {
     "cell_type": "code",
     "collapsed": false,
     "input": [],
     "language": "python",
     "metadata": {},
     "outputs": [],
     "prompt_number": 386
    },
    {
     "cell_type": "code",
     "collapsed": false,
     "input": [],
     "language": "python",
     "metadata": {},
     "outputs": [],
     "prompt_number": 386
    }
   ],
   "metadata": {}
  }
 ]
}